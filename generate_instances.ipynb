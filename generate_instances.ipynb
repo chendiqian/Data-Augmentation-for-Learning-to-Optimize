{
 "cells": [
  {
   "cell_type": "code",
   "execution_count": 433,
   "id": "86067865-0742-4b44-a0e2-bc87447a977a",
   "metadata": {
    "is_executing": true,
    "tags": []
   },
   "outputs": [
    {
     "name": "stdout",
     "output_type": "stream",
     "text": [
      "The autoreload extension is already loaded. To reload it, use:\n",
      "  %reload_ext autoreload\n",
      "The line_profiler extension is already loaded. To reload it, use:\n",
      "  %reload_ext line_profiler\n"
     ]
    }
   ],
   "source": [
    "%load_ext autoreload\n",
    "%autoreload 2\n",
    "%load_ext line_profiler"
   ]
  },
  {
   "cell_type": "code",
   "execution_count": 434,
   "id": "c613b1ca-4366-4c13-b0d4-47e581195d5b",
   "metadata": {
    "tags": []
   },
   "outputs": [],
   "source": [
    "from scipy.optimize import linprog\n",
    "from tqdm import tqdm\n",
    "\n",
    "import os\n",
    "import torch\n",
    "from scipy.linalg import LinAlgWarning, LinAlgError\n",
    "from scipy.optimize._optimize import OptimizeWarning\n",
    "from scipy.optimize._linprog_util import _clean_inputs, _get_Abc\n",
    "import warnings\n",
    "import numpy as np\n",
    "\n",
    "from generate_instances_lp import generate_setcover, Graph, generate_indset, generate_cauctions, generate_capacited_facility_location"
   ]
  },
  {
   "cell_type": "code",
   "execution_count": 435,
   "id": "5253b78c-64f5-4b2d-b4d9-fd7107bbdebd",
   "metadata": {
    "tags": []
   },
   "outputs": [],
   "source": [
    "rng = np.random.RandomState(1)"
   ]
  },
  {
   "cell_type": "code",
   "execution_count": 438,
   "id": "ca5baa7a-a9fa-41b9-aa05-755f29c333b1",
   "metadata": {
    "tags": []
   },
   "outputs": [],
   "source": [
    "root = 'datasets/gen_20_30_0.2'\n",
    "os.mkdir(root)\n",
    "os.mkdir(os.path.join(root, 'processed'))"
   ]
  },
  {
   "cell_type": "markdown",
   "id": "26cbdb3b-3931-4ae5-a4b5-a6da6b315bd8",
   "metadata": {},
   "source": [
    "### Generic"
   ]
  },
  {
   "cell_type": "code",
   "execution_count": 774,
   "id": "48e31733-3880-4299-bb84-1e7bb191dd7c",
   "metadata": {},
   "outputs": [],
   "source": [
    "density = 0.2\n",
    "nrows = 20\n",
    "ncols = 30\n",
    "\n",
    "def surrogate_gen():\n",
    "    A = np.random.randn(nrows, ncols)\n",
    "    A[np.random.rand(nrows, ncols) > density] = 0.\n",
    "    x_feas = np.abs(np.random.randn(ncols))  # Ensure x_feas is non-negative\n",
    "    b = A @ x_feas + np.abs(np.random.randn(nrows))  # Ensure feasibility\n",
    "\n",
    "    c = np.abs(np.random.randn(ncols))\n",
    "    return A, b, c\n",
    "\n",
    "bounds = None"
   ]
  },
  {
   "cell_type": "markdown",
   "id": "22b2dfbe-1ca0-4fda-b22f-b356c25a8e9b",
   "metadata": {},
   "source": [
    "### Setcover"
   ]
  },
  {
   "cell_type": "code",
   "execution_count": 720,
   "id": "98b27565-ab4d-4872-8798-0050a16cfaa2",
   "metadata": {
    "tags": []
   },
   "outputs": [],
   "source": [
    "density = 0.01\n",
    "nrows_l = 300\n",
    "nrows_u = 400\n",
    "ncols_l = 200\n",
    "ncols_u = 300\n",
    "\n",
    "bounds = (0., 1.)\n",
    "\n",
    "def surrogate_gen():\n",
    "    nrows = rng.randint(nrows_l, nrows_u)\n",
    "    ncols = rng.randint(ncols_l, ncols_u)\n",
    "    nnzrs = int(nrows * ncols * density)\n",
    "    A, b, c = generate_setcover(nrows, ncols, nnzrs, rng)\n",
    "    return A, b, c"
   ]
  },
  {
   "cell_type": "markdown",
   "id": "8feba305-fe78-4c36-9e05-c9925320ce8f",
   "metadata": {},
   "source": [
    "### Indset"
   ]
  },
  {
   "cell_type": "code",
   "execution_count": null,
   "id": "d011cf5b-7a78-4eee-bec4-4c95e823787f",
   "metadata": {},
   "outputs": [],
   "source": [
    "def surrogate_gen():\n",
    "    # nnodes = rng.randint(10, 20)\n",
    "    nnodes = rng.randint(250, 300)\n",
    "    edge_probability = 0.01\n",
    "    graph = Graph.erdos_renyi(number_of_nodes=nnodes, edge_probability=edge_probability, random=rng)\n",
    "    A, b, c = generate_indset(graph=graph, nnodes=nnodes)\n",
    "    return None, None, A, b, c\n",
    "\n",
    "bounds = (0., 1.)"
   ]
  },
  {
   "cell_type": "markdown",
   "id": "5b10bae9-954f-4f8d-891b-c11ef61e61d2",
   "metadata": {},
   "source": [
    "### Cauctions"
   ]
  },
  {
   "cell_type": "code",
   "execution_count": null,
   "id": "409d4b02-d2c1-4765-9137-e840fd511ad0",
   "metadata": {},
   "outputs": [],
   "source": [
    "def surrogate_gen():\n",
    "    # n_items=rng.randint(15, 20)\n",
    "    # n_bids=rng.randint(15, 20)\n",
    "    n_items=rng.randint(300, 400)\n",
    "    n_bids=rng.randint(300, 400)\n",
    "    A, b, c = generate_cauctions(n_items=n_items, n_bids=n_bids, rng=rng, min_value=0.5, max_value=1., add_item_prob=0.5)\n",
    "    # c = np.ones_like(c, dtype=np.float32) * -1.\n",
    "    return A, b, c\n",
    "\n",
    "bounds = (0., 1.)"
   ]
  },
  {
   "cell_type": "markdown",
   "id": "70957397-d822-4a34-b05d-8eeeba50214a",
   "metadata": {},
   "source": [
    "### Facilities"
   ]
  },
  {
   "cell_type": "code",
   "execution_count": null,
   "id": "54e45f1f-07de-42ac-8d2d-2c1ac4c5f8d8",
   "metadata": {},
   "outputs": [],
   "source": [
    "def surrogate_gen():\n",
    "    n_customers = rng.randint(60, 70)\n",
    "    n_facilities = 5\n",
    "    ratio = 0.5\n",
    "    # min would be like 0.2-ish\n",
    "    A_eq, b_eq, A_ub, b_ub, c = generate_capacited_facility_location(n_customers=n_customers, \n",
    "                                                                     n_facilities=n_facilities, \n",
    "                                                                     ratio=ratio, rng=rng)\n",
    "    return A_eq, b_eq, A_ub, b_ub, c\n",
    "\n",
    "bounds = (0., 1.)"
   ]
  },
  {
   "cell_type": "markdown",
   "id": "e4e01d11-8f2c-40a3-be31-7c8250564aac",
   "metadata": {},
   "source": [
    "# create ineq"
   ]
  },
  {
   "cell_type": "code",
   "execution_count": 633,
   "id": "8b652b7b-01d0-438e-a131-6ef82950ec7f",
   "metadata": {},
   "outputs": [],
   "source": [
    "from scipy.linalg import qr\n",
    "from torch_geometric.data import Batch, HeteroData, InMemoryDataset\n",
    "from collections import namedtuple\n",
    "\n",
    "_LPProblem = namedtuple('_LPProblem',\n",
    "                        'c A_ub b_ub A_eq b_eq bounds x0 integrality')\n",
    "_LPProblem.__new__.__defaults__ = (None,) * 7  # make c the only required arg"
   ]
  },
  {
   "cell_type": "code",
   "execution_count": 775,
   "id": "e690cdaf-1b03-457b-9562-9655f53fb621",
   "metadata": {},
   "outputs": [],
   "source": [
    "def normalize_cons(A, b):\n",
    "    if A is None or b is None:\n",
    "        return A, b\n",
    "    Ab = np.concatenate([A, b[:, None]], axis=1)\n",
    "    max_logit = np.abs(Ab).max(axis=1)\n",
    "    max_logit[max_logit == 0] = 1.\n",
    "    Ab = Ab / max_logit[:, None]\n",
    "    A = Ab[:, :-1]\n",
    "    b = Ab[:, -1]\n",
    "    return A, b"
   ]
  },
  {
   "cell_type": "code",
   "execution_count": null,
   "id": "d093b63b-abca-4338-bf40-097774653b88",
   "metadata": {},
   "outputs": [],
   "source": []
  },
  {
   "cell_type": "code",
   "execution_count": 903,
   "id": "102a9aa1-f7a8-4c55-87e5-16ba7aa23175",
   "metadata": {},
   "outputs": [],
   "source": [
    "A, b, c = surrogate_gen()\n",
    "c = c / (np.abs(c).max() + 1.e-10)  # does not change the result\n",
    "A, b = normalize_cons(A, b)"
   ]
  },
  {
   "cell_type": "code",
   "execution_count": 904,
   "id": "b6a641ff-c578-46df-be38-c8cde7a6c480",
   "metadata": {},
   "outputs": [],
   "source": [
    "res = linprog(c, A_ub=A, b_ub=b, bounds=bounds, method='highs')"
   ]
  },
  {
   "cell_type": "code",
   "execution_count": 905,
   "id": "c3344621-6e6b-43d1-9ee4-bfcb93159426",
   "metadata": {},
   "outputs": [],
   "source": [
    "obj = res.fun"
   ]
  },
  {
   "cell_type": "code",
   "execution_count": 906,
   "id": "4a3ec4e8-f0e1-4c43-879b-555719a91795",
   "metadata": {},
   "outputs": [],
   "source": [
    "def active_idx(A, x, b, eps=1.e-8):\n",
    "    vio = A @ res.x - b\n",
    "    assert vio.max() <= eps\n",
    "    vio_mask = np.abs(vio) < eps\n",
    "    return np.where(vio_mask)[0]"
   ]
  },
  {
   "cell_type": "code",
   "execution_count": 907,
   "id": "fc178987-c2ff-4b77-8f97-124fb88bae89",
   "metadata": {},
   "outputs": [],
   "source": [
    "actives = active_idx(A, res.x, b)"
   ]
  },
  {
   "cell_type": "code",
   "execution_count": 908,
   "id": "3885f160-9783-48d4-81fd-824b9d911442",
   "metadata": {},
   "outputs": [
    {
     "data": {
      "text/plain": [
       "array([ 1,  7,  9, 12, 15, 16, 17, 19])"
      ]
     },
     "execution_count": 908,
     "metadata": {},
     "output_type": "execute_result"
    }
   ],
   "source": [
    "actives"
   ]
  },
  {
   "cell_type": "code",
   "execution_count": 909,
   "id": "38e90ff2-bec5-4d10-b13c-203d6536558d",
   "metadata": {},
   "outputs": [],
   "source": [
    "inactives = np.setdiff1d(np.arange(A.shape[0]), actives)"
   ]
  },
  {
   "cell_type": "code",
   "execution_count": 943,
   "id": "2d515e96-007f-4030-b064-96ab5a2526ff",
   "metadata": {},
   "outputs": [],
   "source": [
    "# heur = np.where(A @ c < 0, A @ c + b, 10000)\n",
    "heur = A @ c + b"
   ]
  },
  {
   "cell_type": "code",
   "execution_count": 944,
   "id": "eb8226f2-40bb-4c40-a4ee-e2ff66a1c825",
   "metadata": {},
   "outputs": [
    {
     "data": {
      "text/plain": [
       "array([-1.46408196, -1.12194763,  1.03493377,  0.89820058, -0.58505166,\n",
       "        1.64286862,  0.56432216, -1.33292076,  1.12612255, -1.44090078,\n",
       "        1.78040329,  1.07957904,  1.28507853,  1.00785969,  1.46256524,\n",
       "        0.98091567, -1.29380029, -1.44830598,  0.79459833, -1.11974753])"
      ]
     },
     "execution_count": 944,
     "metadata": {},
     "output_type": "execute_result"
    }
   ],
   "source": [
    "heur"
   ]
  },
  {
   "cell_type": "code",
   "execution_count": 945,
   "id": "5433a6db-8d2d-473b-885c-323eb3533391",
   "metadata": {},
   "outputs": [],
   "source": [
    "sortd_Ac_add_b = np.argsort(heur)"
   ]
  },
  {
   "cell_type": "code",
   "execution_count": 973,
   "id": "44907797-1414-4791-944c-644d3a87d3b8",
   "metadata": {},
   "outputs": [
    {
     "data": {
      "text/plain": [
       "array([0, 1, 1, 1, 1, 1, 1, 0, 0, 0, 0, 1, 0, 0, 0, 0, 1, 0, 0, 0],\n",
       "      dtype=int32)"
      ]
     },
     "execution_count": 973,
     "metadata": {},
     "output_type": "execute_result"
    }
   ],
   "source": [
    "np.isin(sortd_Ac_add_b, actives).astype(np.int32)"
   ]
  },
  {
   "cell_type": "code",
   "execution_count": null,
   "id": "9992b491-c920-4e79-a786-6b1a6eb049e9",
   "metadata": {},
   "outputs": [],
   "source": []
  },
  {
   "cell_type": "code",
   "execution_count": 457,
   "id": "930ce491-0e63-453d-ab9a-56b251812b99",
   "metadata": {},
   "outputs": [
    {
     "ename": "AssertionError",
     "evalue": "",
     "output_type": "error",
     "traceback": [
      "\u001b[0;31m---------------------------------------------------------------------------\u001b[0m",
      "\u001b[0;31mAssertionError\u001b[0m                            Traceback (most recent call last)",
      "Cell \u001b[0;32mIn[457], line 9\u001b[0m\n\u001b[1;32m      7\u001b[0m \u001b[38;5;66;03m# A_[row, i] = 0\u001b[39;00m\n\u001b[1;32m      8\u001b[0m res \u001b[38;5;241m=\u001b[39m linprog(c, A_ub\u001b[38;5;241m=\u001b[39mA_, b_ub\u001b[38;5;241m=\u001b[39mb, bounds\u001b[38;5;241m=\u001b[39mbounds, method\u001b[38;5;241m=\u001b[39m\u001b[38;5;124m'\u001b[39m\u001b[38;5;124mhighs\u001b[39m\u001b[38;5;124m'\u001b[39m)\n\u001b[0;32m----> 9\u001b[0m \u001b[38;5;28;01massert\u001b[39;00m res\u001b[38;5;241m.\u001b[39mfun \u001b[38;5;241m==\u001b[39m obj\n",
      "\u001b[0;31mAssertionError\u001b[0m: "
     ]
    }
   ],
   "source": [
    "for row in inactives:\n",
    "    if A[row].dot(c) > 0:\n",
    "        for i in range(100):\n",
    "            A_ = A.copy()\n",
    "            # if A_[row, i] == 0.:\n",
    "            A_[row, i] -= 100000\n",
    "            # A_[row, i] = 0\n",
    "            res = linprog(c, A_ub=A_, b_ub=b, bounds=bounds, method='highs')\n",
    "            assert res.fun == obj"
   ]
  },
  {
   "cell_type": "code",
   "execution_count": null,
   "id": "175b8cbe-e293-4b6e-9b31-f8d7358dc75b",
   "metadata": {},
   "outputs": [],
   "source": []
  },
  {
   "cell_type": "code",
   "execution_count": null,
   "id": "41f00fb7-0cd0-45f3-9883-d593b81a8c46",
   "metadata": {},
   "outputs": [],
   "source": []
  },
  {
   "cell_type": "code",
   "execution_count": null,
   "id": "6142b53e-dfce-4d2a-81e6-a7807e0f3b80",
   "metadata": {},
   "outputs": [],
   "source": []
  },
  {
   "cell_type": "code",
   "execution_count": null,
   "id": "c52f61cb-e828-4e95-a536-67172667cf60",
   "metadata": {},
   "outputs": [],
   "source": []
  },
  {
   "cell_type": "code",
   "execution_count": 458,
   "id": "07eb0423-ed04-42e9-accd-483f224901f7",
   "metadata": {},
   "outputs": [
    {
     "name": "stderr",
     "output_type": "stream",
     "text": [
      " 68%|██████████████████████████████████████████████████████████████████▎                              | 10248/15000 [00:13<00:06, 764.78it/s, suc=9999, obj_solution=0.549]\n"
     ]
    }
   ],
   "source": [
    "warnings.filterwarnings(\"error\")\n",
    "\n",
    "ips = []\n",
    "graphs = []\n",
    "pkg_idx = 0\n",
    "success_cnt = 0\n",
    "\n",
    "max_iter = 15000\n",
    "num = 10000\n",
    "\n",
    "pbar = tqdm(range(max_iter))\n",
    "for i in pbar:\n",
    "    A, b, c = surrogate_gen()\n",
    "    c = c / (np.abs(c).max() + 1.e-10)  # does not change the result\n",
    "    A, b = normalize_cons(A, b)\n",
    "\n",
    "    # process LP into standard form Ax=b, x>=0\n",
    "    # lp = _LPProblem(c, A_ub, b_ub, A_eq, b_eq, bounds, None, None)\n",
    "    # lp = _clean_inputs(lp)\n",
    "    # A, b, c, *_ = _get_Abc(lp, 0.)\n",
    "    # bounds = None\n",
    "    \n",
    "    try:\n",
    "        assert np.linalg.matrix_rank(A) == A.shape[0]\n",
    "        res = linprog(c, A_ub=A, b_ub=b, bounds=bounds, method='highs')\n",
    "    except (LinAlgWarning, OptimizeWarning, AssertionError, LinAlgError):\n",
    "        continue\n",
    "    else:\n",
    "        if res.success and not np.isnan(res.fun) and res.fun != 0.:\n",
    "            # calculate active set score\n",
    "            heur = A @ c / np.linalg.norm(A, ord=None, axis=1) / np.linalg.norm(c) + b\n",
    "            active_sort_idx = np.argsort(heur)\n",
    "            \n",
    "            A = torch.from_numpy(A).to(torch.float)\n",
    "            b = torch.from_numpy(b).to(torch.float)\n",
    "            c = torch.from_numpy(c).to(torch.float)\n",
    "            x = torch.from_numpy(res.x).to(torch.float)\n",
    "\n",
    "            A_where = torch.where(A)\n",
    "            data = HeteroData(\n",
    "                cons={\n",
    "                    'num_nodes': b.shape[0],\n",
    "                    'x': torch.empty(b.shape[0]),\n",
    "                     },\n",
    "                vals={\n",
    "                    'num_nodes': c.shape[0],\n",
    "                    'x': torch.empty(c.shape[0]),\n",
    "                },\n",
    "                obj={\n",
    "                    'num_nodes': 1,\n",
    "                    'x': torch.zeros(1, 1).float(),\n",
    "                },\n",
    "                cons__to__vals={'edge_index': torch.vstack(A_where),\n",
    "                                'edge_attr': A[A_where][:, None]},\n",
    "                obj__to__vals={'edge_index': torch.vstack([torch.zeros(A.shape[1]).long(),\n",
    "                                                           torch.arange(A.shape[1])]),\n",
    "                                'edge_attr': c[:, None]},\n",
    "                obj__to__cons={'edge_index': torch.vstack([torch.zeros(A.shape[0]).long(),\n",
    "                                                           torch.arange(A.shape[0])]),\n",
    "                                'edge_attr': b[:, None]},\n",
    "                x_solution=x,\n",
    "                obj_solution=c.dot(x),\n",
    "                q=c,\n",
    "                b=b,\n",
    "                active_sort_idx=torch.from_numpy(active_sort_idx).long()\n",
    "            )\n",
    "            success_cnt += 1\n",
    "            graphs.append(data)\n",
    "\n",
    "    if len(graphs) >= 1000 or success_cnt == num:\n",
    "        torch.save(Batch.from_data_list(graphs), f'{root}/processed/batch{pkg_idx}.pt')\n",
    "        pkg_idx += 1\n",
    "        graphs = []\n",
    "\n",
    "    if success_cnt >= num:\n",
    "        break\n",
    "\n",
    "    pbar.set_postfix({'suc': success_cnt, 'obj_solution': c.dot(x).item()})\n",
    "\n",
    "warnings.resetwarnings()"
   ]
  },
  {
   "cell_type": "code",
   "execution_count": 459,
   "id": "9ba781a6-076b-462a-9366-0fb6a3457468",
   "metadata": {},
   "outputs": [],
   "source": [
    "from data.dataset import LPDataset"
   ]
  },
  {
   "cell_type": "code",
   "execution_count": 460,
   "id": "0f9f79d2-e484-4f1c-a35c-3924381ad80f",
   "metadata": {},
   "outputs": [
    {
     "name": "stderr",
     "output_type": "stream",
     "text": [
      "Processing...\n",
      "Done!\n"
     ]
    }
   ],
   "source": [
    "ds = LPDataset(root, 'train')"
   ]
  },
  {
   "cell_type": "code",
   "execution_count": null,
   "id": "b014bd05-eeb3-49f7-aacc-1393d4ba456b",
   "metadata": {},
   "outputs": [],
   "source": []
  }
 ],
 "metadata": {
  "kernelspec": {
   "display_name": "Python 3 (ipykernel)",
   "language": "python",
   "name": "python3"
  },
  "language_info": {
   "codemirror_mode": {
    "name": "ipython",
    "version": 3
   },
   "file_extension": ".py",
   "mimetype": "text/x-python",
   "name": "python",
   "nbconvert_exporter": "python",
   "pygments_lexer": "ipython3",
   "version": "3.10.14"
  }
 },
 "nbformat": 4,
 "nbformat_minor": 5
}
