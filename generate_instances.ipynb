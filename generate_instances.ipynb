{
 "cells": [
  {
   "cell_type": "code",
   "execution_count": null,
   "id": "86067865-0742-4b44-a0e2-bc87447a977a",
   "metadata": {
    "is_executing": true,
    "tags": []
   },
   "outputs": [],
   "source": [
    "%load_ext autoreload\n",
    "%autoreload 2\n",
    "%load_ext line_profiler"
   ]
  },
  {
   "cell_type": "code",
   "execution_count": null,
   "id": "c613b1ca-4366-4c13-b0d4-47e581195d5b",
   "metadata": {
    "tags": []
   },
   "outputs": [],
   "source": [
    "from scipy.optimize import linprog\n",
    "from tqdm import tqdm\n",
    "\n",
    "import os\n",
    "import torch\n",
    "from scipy.linalg import LinAlgError\n",
    "import numpy as np\n",
    "from torch_geometric.data import Batch, HeteroData\n",
    "from scipy.sparse import coo_array\n",
    "\n",
    "from generate_instances_lp import generate_setcover, Graph, generate_indset, generate_cauctions, generate_capacited_facility_location"
   ]
  },
  {
   "cell_type": "code",
   "execution_count": null,
   "id": "5253b78c-64f5-4b2d-b4d9-fd7107bbdebd",
   "metadata": {
    "tags": []
   },
   "outputs": [],
   "source": [
    "rng = np.random.RandomState(1)"
   ]
  },
  {
   "cell_type": "code",
   "execution_count": null,
   "id": "ca5baa7a-a9fa-41b9-aa05-755f29c333b1",
   "metadata": {
    "tags": []
   },
   "outputs": [],
   "source": [
    "root = 'datasets/gen_100_100_0.05'\n",
    "os.mkdir(root)\n",
    "os.mkdir(os.path.join(root, 'processed'))"
   ]
  },
  {
   "cell_type": "markdown",
   "id": "26cbdb3b-3931-4ae5-a4b5-a6da6b315bd8",
   "metadata": {},
   "source": [
    "### Generic"
   ]
  },
  {
   "cell_type": "code",
   "execution_count": null,
   "id": "48e31733-3880-4299-bb84-1e7bb191dd7c",
   "metadata": {},
   "outputs": [],
   "source": [
    "density = 1.\n",
    "nrows = 100\n",
    "ncols = 100\n",
    "\n",
    "def surrogate_gen():\n",
    "    assert max(nrows, ncols) * density > 1\n",
    "\n",
    "    m, n = min(nrows, ncols), max(nrows, ncols)\n",
    "\n",
    "    # make sure rows and cols are selected at least once\n",
    "    rows = np.hstack([np.arange(m), np.random.randint(0, m, (n - m,))])\n",
    "    cols = np.arange(n)\n",
    "\n",
    "    # generate the rest\n",
    "    nnz = int(nrows * ncols * density)\n",
    "    num_rest = nnz - n\n",
    "\n",
    "    rows_rest = np.random.randint(0, m, (num_rest,))\n",
    "    cols_rest = np.random.randint(0, n, (num_rest,))\n",
    "\n",
    "    values = np.random.randn(nnz)\n",
    "\n",
    "    A = coo_array((values, (np.hstack([rows, rows_rest]), np.hstack([cols, cols_rest]))), shape=(m, n)).toarray()\n",
    "    if m > n:\n",
    "        A = A.T\n",
    "\n",
    "    x_feas = np.abs(np.random.randn(ncols))  # Ensure x_feas is non-negative\n",
    "    b = A @ x_feas + np.abs(np.random.randn(nrows))  # Ensure feasibility\n",
    "\n",
    "    c = np.abs(np.random.randn(ncols))\n",
    "    return A, b, c\n",
    "\n",
    "bounds = None"
   ]
  },
  {
   "cell_type": "markdown",
   "id": "22b2dfbe-1ca0-4fda-b22f-b356c25a8e9b",
   "metadata": {},
   "source": [
    "### Setcover"
   ]
  },
  {
   "cell_type": "code",
   "execution_count": null,
   "id": "98b27565-ab4d-4872-8798-0050a16cfaa2",
   "metadata": {
    "tags": []
   },
   "outputs": [],
   "source": [
    "density = 0.01\n",
    "nrows_l = 300\n",
    "nrows_u = 400\n",
    "ncols_l = 200\n",
    "ncols_u = 300\n",
    "\n",
    "bounds = (0., 1.)\n",
    "\n",
    "def surrogate_gen():\n",
    "    nrows = rng.randint(nrows_l, nrows_u)\n",
    "    ncols = rng.randint(ncols_l, ncols_u)\n",
    "    nnzrs = int(nrows * ncols * density)\n",
    "    A, b, c = generate_setcover(nrows, ncols, nnzrs, rng)\n",
    "    return A, b, c"
   ]
  },
  {
   "cell_type": "markdown",
   "id": "8feba305-fe78-4c36-9e05-c9925320ce8f",
   "metadata": {},
   "source": [
    "### Indset"
   ]
  },
  {
   "cell_type": "code",
   "execution_count": null,
   "id": "d011cf5b-7a78-4eee-bec4-4c95e823787f",
   "metadata": {},
   "outputs": [],
   "source": [
    "def surrogate_gen():\n",
    "    # nnodes = rng.randint(10, 20)\n",
    "    nnodes = rng.randint(250, 300)\n",
    "    edge_probability = 0.01\n",
    "    graph = Graph.erdos_renyi(number_of_nodes=nnodes, edge_probability=edge_probability, random=rng)\n",
    "    A, b, c = generate_indset(graph=graph, nnodes=nnodes)\n",
    "    return None, None, A, b, c\n",
    "\n",
    "bounds = (0., 1.)"
   ]
  },
  {
   "cell_type": "markdown",
   "id": "5b10bae9-954f-4f8d-891b-c11ef61e61d2",
   "metadata": {},
   "source": [
    "### Cauctions"
   ]
  },
  {
   "cell_type": "code",
   "execution_count": null,
   "id": "409d4b02-d2c1-4765-9137-e840fd511ad0",
   "metadata": {},
   "outputs": [],
   "source": [
    "def surrogate_gen():\n",
    "    # n_items=rng.randint(15, 20)\n",
    "    # n_bids=rng.randint(15, 20)\n",
    "    n_items=rng.randint(300, 400)\n",
    "    n_bids=rng.randint(300, 400)\n",
    "    A, b, c = generate_cauctions(n_items=n_items, n_bids=n_bids, rng=rng, min_value=0.5, max_value=1., add_item_prob=0.5)\n",
    "    # c = np.ones_like(c, dtype=np.float32) * -1.\n",
    "    return A, b, c\n",
    "\n",
    "bounds = (0., 1.)"
   ]
  },
  {
   "cell_type": "markdown",
   "id": "70957397-d822-4a34-b05d-8eeeba50214a",
   "metadata": {},
   "source": [
    "### Facilities"
   ]
  },
  {
   "cell_type": "code",
   "execution_count": null,
   "id": "54e45f1f-07de-42ac-8d2d-2c1ac4c5f8d8",
   "metadata": {},
   "outputs": [],
   "source": [
    "def surrogate_gen():\n",
    "    n_customers = rng.randint(60, 70)\n",
    "    n_facilities = 5\n",
    "    ratio = 0.5\n",
    "    # min would be like 0.2-ish\n",
    "    A_eq, b_eq, A_ub, b_ub, c = generate_capacited_facility_location(n_customers=n_customers, \n",
    "                                                                     n_facilities=n_facilities, \n",
    "                                                                     ratio=ratio, rng=rng)\n",
    "    return A_eq, b_eq, A_ub, b_ub, c\n",
    "\n",
    "bounds = (0., 1.)"
   ]
  },
  {
   "cell_type": "markdown",
   "id": "e4e01d11-8f2c-40a3-be31-7c8250564aac",
   "metadata": {},
   "source": [
    "# create ineq"
   ]
  },
  {
   "cell_type": "code",
   "execution_count": null,
   "id": "fdb599e2-bf0e-48e8-a882-20068bcbdfe7",
   "metadata": {},
   "outputs": [],
   "source": [
    "from utils.evaluation import numpy_inactive_contraint_heuristic, numpy_inactive_contraint, normalize_cons"
   ]
  },
  {
   "cell_type": "code",
   "execution_count": null,
   "id": "07eb0423-ed04-42e9-accd-483f224901f7",
   "metadata": {},
   "outputs": [],
   "source": [
    "ips = []\n",
    "graphs = []\n",
    "pkg_idx = 0\n",
    "success_cnt = 0\n",
    "\n",
    "max_iter = 15000\n",
    "num = 10000\n",
    "\n",
    "pbar = tqdm(range(max_iter))\n",
    "for i in pbar:\n",
    "    A, b, c = surrogate_gen()\n",
    "    c = c / (np.abs(c).max() + 1.e-10)  # does not change the result\n",
    "    A, b = normalize_cons(A, b)\n",
    "    \n",
    "    try:\n",
    "        assert np.linalg.matrix_rank(A) == min(*A.shape)\n",
    "        assert np.all(np.any(A, axis=1)) and np.all(np.any(A, axis=0))\n",
    "        res = linprog(c, A_ub=A, b_ub=b, bounds=bounds, method='highs')\n",
    "    except (AssertionError, LinAlgError):\n",
    "        continue\n",
    "    else:\n",
    "        if res.success and not np.isnan(res.fun) and res.fun != 0.:\n",
    "            heur_idx = numpy_inactive_contraint_heuristic(A, b, c)\n",
    "            inactive_idx = numpy_inactive_contraint(A, b, res.x)\n",
    "            inactive_heur_acc = np.isin(heur_idx, inactive_idx).sum() / len(heur_idx)\n",
    "\n",
    "            A = torch.from_numpy(A).to(torch.float)\n",
    "            b = torch.from_numpy(b).to(torch.float)\n",
    "            c = torch.from_numpy(c).to(torch.float)\n",
    "            x = torch.from_numpy(res.x).to(torch.float)\n",
    "\n",
    "            A_where = torch.where(A)\n",
    "            data = HeteroData(\n",
    "                cons={\n",
    "                    'num_nodes': b.shape[0],\n",
    "                    'x': torch.empty(b.shape[0]),\n",
    "                     },\n",
    "                vals={\n",
    "                    'num_nodes': c.shape[0],\n",
    "                    'x': torch.empty(c.shape[0]),\n",
    "                },\n",
    "                cons__to__vals={'edge_index': torch.vstack(A_where),\n",
    "                                'edge_attr': A[A_where][:, None]},\n",
    "                x_solution=x,\n",
    "                obj_solution=c.dot(x),\n",
    "                q=c,\n",
    "                b=b,\n",
    "                heur_idx=torch.from_numpy(heur_idx).long(),\n",
    "                inactive_idx=torch.from_numpy(inactive_idx).long(),\n",
    "            )\n",
    "            success_cnt += 1\n",
    "            graphs.append(data)\n",
    "\n",
    "    if len(graphs) >= 1000 or success_cnt == num:\n",
    "        torch.save(Batch.from_data_list(graphs), f'{root}/processed/batch{pkg_idx}.pt')\n",
    "        pkg_idx += 1\n",
    "        graphs = []\n",
    "\n",
    "    if success_cnt >= num:\n",
    "        break\n",
    "\n",
    "    pbar.set_postfix({'suc': success_cnt, 'obj': res.fun, 'inactive_heur_acc': inactive_heur_acc})"
   ]
  },
  {
   "cell_type": "code",
   "execution_count": null,
   "id": "9ba781a6-076b-462a-9366-0fb6a3457468",
   "metadata": {},
   "outputs": [],
   "source": [
    "from data.dataset import LPDataset"
   ]
  },
  {
   "cell_type": "code",
   "execution_count": null,
   "id": "0f9f79d2-e484-4f1c-a35c-3924381ad80f",
   "metadata": {},
   "outputs": [],
   "source": [
    "ds = LPDataset(root, 'test')"
   ]
  },
  {
   "cell_type": "code",
   "execution_count": null,
   "id": "e39d6d22-91bd-4a44-9a27-599fceadf2a4",
   "metadata": {},
   "outputs": [],
   "source": [
    "data = ds[0]"
   ]
  },
  {
   "cell_type": "code",
   "execution_count": null,
   "id": "729bb646-619a-4245-b542-fe67bb3c5dd0",
   "metadata": {},
   "outputs": [],
   "source": []
  },
  {
   "cell_type": "code",
   "execution_count": null,
   "id": "3ea19151-4521-473a-b431-d831c58c216e",
   "metadata": {},
   "outputs": [],
   "source": []
  },
  {
   "cell_type": "code",
   "execution_count": null,
   "id": "c3fabd98-e334-4631-93ac-78e695cd0172",
   "metadata": {},
   "outputs": [],
   "source": [
    "from transforms import (DropInactiveConstraint,\n",
    "                                    AddRedundantConstraint,\n",
    "                                    ScaleConstraint, ScaleCoordinate,\n",
    "                                    AddSubOrthogonalConstraint,\n",
    "                                    AddDumbVariables,)"
   ]
  },
  {
   "cell_type": "code",
   "execution_count": null,
   "id": "67190d48-f97d-4a7a-ab4e-ff4f2df92e84",
   "metadata": {},
   "outputs": [],
   "source": [
    "aug_list = [\n",
    "    # DropInactiveConstraint(0.1), \n",
    "    # AddSubOrthogonalConstraint(0.1),\n",
    "    ScaleConstraint(1),\n",
    "    ScaleCoordinate(1), \n",
    "    AddRedundantConstraint(0.3),\n",
    "    AddDumbVariables(0.3)]"
   ]
  },
  {
   "cell_type": "code",
   "execution_count": null,
   "id": "1b5c8639-49af-4edc-a9e2-4a6a38c65423",
   "metadata": {},
   "outputs": [],
   "source": [
    "from transforms.wrapper import ComboAugmentWrapper\n",
    "\n",
    "tf = ComboAugmentWrapper(aug_list)"
   ]
  },
  {
   "cell_type": "code",
   "execution_count": null,
   "id": "6723c7fd-0bab-4d85-8227-3a8541a5488d",
   "metadata": {},
   "outputs": [],
   "source": [
    "tf.transforms"
   ]
  },
  {
   "cell_type": "code",
   "execution_count": null,
   "id": "1b83af67-a5f1-4973-a68d-628b09e8fbb5",
   "metadata": {},
   "outputs": [],
   "source": []
  },
  {
   "cell_type": "code",
   "execution_count": null,
   "id": "c4825c7b-a15b-4006-85a0-be43c581ee32",
   "metadata": {},
   "outputs": [],
   "source": []
  },
  {
   "cell_type": "code",
   "execution_count": null,
   "id": "8f36eb9e-2905-4470-a7bf-a7da74e6f12f",
   "metadata": {},
   "outputs": [],
   "source": [
    "data"
   ]
  },
  {
   "cell_type": "code",
   "execution_count": null,
   "id": "8c795a9c-f93d-4c92-a560-6271a5ced8bc",
   "metadata": {},
   "outputs": [],
   "source": [
    "from utils.evaluation import recover_lp_from_data"
   ]
  },
  {
   "cell_type": "code",
   "execution_count": null,
   "id": "772e4a40-afbd-4870-8f52-5a1321bfefc5",
   "metadata": {},
   "outputs": [],
   "source": [
    "A,c,b,*_ = recover_lp_from_data(data)\n",
    "res = linprog(c, A_ub=A, b_ub=b, bounds=None, method='highs')"
   ]
  },
  {
   "cell_type": "code",
   "execution_count": null,
   "id": "63bbcdba-49be-4a93-8fd1-21e9cc0ed4fd",
   "metadata": {},
   "outputs": [],
   "source": [
    "res"
   ]
  },
  {
   "cell_type": "code",
   "execution_count": null,
   "id": "1f19ff7d-5dd8-4670-8cf1-a86c594dcf19",
   "metadata": {},
   "outputs": [],
   "source": [
    "tf = AddDumbVariables(0.01)"
   ]
  },
  {
   "cell_type": "code",
   "execution_count": null,
   "id": "f266dd79-49ff-4e38-8bdf-6b7c76526924",
   "metadata": {},
   "outputs": [],
   "source": [
    "A"
   ]
  },
  {
   "cell_type": "code",
   "execution_count": null,
   "id": "46ad95f3-2125-460a-8ff1-950ab485b64f",
   "metadata": {},
   "outputs": [],
   "source": [
    "for _ in range(100):\n",
    "    d1 = tf(data)\n",
    "    A,c,b,*_ = recover_lp_from_data(d1)\n",
    "    res = linprog(c, A_ub=A, b_ub=b, bounds=None, method='highs')\n",
    "    print(res.fun, res.x[-1])"
   ]
  },
  {
   "cell_type": "code",
   "execution_count": null,
   "id": "478b9d57-c2dc-47ea-ac62-94e57e829486",
   "metadata": {},
   "outputs": [],
   "source": []
  }
 ],
 "metadata": {
  "kernelspec": {
   "display_name": "Python 3 (ipykernel)",
   "language": "python",
   "name": "python3"
  },
  "language_info": {
   "codemirror_mode": {
    "name": "ipython",
    "version": 3
   },
   "file_extension": ".py",
   "mimetype": "text/x-python",
   "name": "python",
   "nbconvert_exporter": "python",
   "pygments_lexer": "ipython3",
   "version": "3.11.11"
  }
 },
 "nbformat": 4,
 "nbformat_minor": 5
}
