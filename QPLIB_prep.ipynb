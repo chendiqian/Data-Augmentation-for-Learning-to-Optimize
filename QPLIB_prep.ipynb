{
 "cells": [
  {
   "cell_type": "code",
   "execution_count": null,
   "id": "3b0a6da5-ca98-420f-a467-e0562ff8dab2",
   "metadata": {},
   "outputs": [],
   "source": [
    "import gurobipy as gp\n",
    "import numpy as np\n",
    "import pandas as pd\n",
    "from torch_geometric.data import HeteroData\n",
    "import torch"
   ]
  },
  {
   "cell_type": "code",
   "execution_count": null,
   "id": "0de54c4e-027b-4bab-afef-c9f1f8aa2010",
   "metadata": {},
   "outputs": [],
   "source": [
    "path = './qplib/html'"
   ]
  },
  {
   "cell_type": "code",
   "execution_count": null,
   "id": "0e8201b1-111f-4c46-80ec-3b4d00e43e01",
   "metadata": {},
   "outputs": [],
   "source": [
    "datos = pd.read_csv(f'{path}/instancedata.csv')"
   ]
  },
  {
   "cell_type": "markdown",
   "id": "16d17537-afb2-4393-9f0d-2310c54e211f",
   "metadata": {},
   "source": [
    "find LCQPs"
   ]
  },
  {
   "cell_type": "code",
   "execution_count": null,
   "id": "2c0f8334-e4b9-483b-a899-8948fb5b1312",
   "metadata": {},
   "outputs": [],
   "source": [
    "datos = datos[datos['conscurvature'] == 'linear']\n",
    "datos = datos.drop(columns=['conscurvature'])"
   ]
  },
  {
   "cell_type": "markdown",
   "id": "f8bad277-d285-429d-b22e-030fe55cf6b9",
   "metadata": {},
   "source": [
    "remove the indefinite ones, the rest are all convex, no concave, no linear"
   ]
  },
  {
   "cell_type": "code",
   "execution_count": null,
   "id": "0751a6e6-7061-4a2d-94d7-8937ef896092",
   "metadata": {},
   "outputs": [],
   "source": [
    "datos = datos[datos['objcurvature'] == 'convex']\n",
    "datos = datos.drop(columns=['objcurvature', 'nobjquadnegev', 'convex'])"
   ]
  },
  {
   "cell_type": "code",
   "execution_count": null,
   "id": "1e126e3c-3e2d-4752-9627-abc3b8309a9b",
   "metadata": {},
   "outputs": [],
   "source": [
    "datos = datos[~np.isnan(datos['solobjvalue'])]\n",
    "datos = datos[datos['ncons'] > 0]\n",
    "# datos = datos.drop(columns=['solobjvalue'])"
   ]
  },
  {
   "cell_type": "code",
   "execution_count": null,
   "id": "25b1749b-44d7-4b82-94a7-e450460fdae8",
   "metadata": {},
   "outputs": [],
   "source": [
    "datos = datos.drop(columns=['nsos1', 'nsos2', 'nintvars', 'nquadfunc', 'objsense', 'objquadproblevfrac', 'njacobiannlnz', 'objtype', 'nnlfunc', 'nldensity', 'nnlsemi',\n",
    "                           'ndiagquadcons', 'nnlintvars', 'nindefinitenlcons', 'solinfeasibility', 'nobjnz', 'nobjnlnz', 'nlnz', 'nz', 'njacobiannz',\n",
    "                           'nlaghessiandiagnz', 'solsource', 'donor', 'nsemi', 'nquadcons', 'nobjquadnz', 'nlaghessiannz', 'nconvexnlcons', 'nlincons', 'nlinfunc',\n",
    "                           'nobjquaddiagnz', 'laghessianmaxblocksize', 'nconcavenlcons', 'nlaghessianblocks', 'laghessianminblocksize', 'nobjquadposev',\n",
    "                           'nnlbinvars', 'ncontvars', 'nnlvars', 'nbinvars', 'nsingleboundedvars', 'nboundedvars', 'laghessianavgblocksize'])"
   ]
  },
  {
   "cell_type": "code",
   "execution_count": null,
   "id": "485a92e2-f259-44ae-9efa-93b0d3e0da09",
   "metadata": {},
   "outputs": [],
   "source": [
    "datos = datos.drop([70, 76, 370, 376, 377, 380, 389, 444, 445], axis=0)  # infeasible"
   ]
  },
  {
   "cell_type": "code",
   "execution_count": null,
   "id": "6df7063c-25f7-4f2c-a658-31e82f1326e8",
   "metadata": {},
   "outputs": [],
   "source": [
    "datos = datos.drop([421, 424, 450], axis=0)  # OOM"
   ]
  },
  {
   "cell_type": "code",
   "execution_count": null,
   "id": "067f006c-6afb-49cd-92eb-0e369957864f",
   "metadata": {},
   "outputs": [],
   "source": [
    "datos"
   ]
  },
  {
   "cell_type": "code",
   "execution_count": null,
   "id": "7c12df43-0587-4a6a-8a39-2cf8139f66c1",
   "metadata": {},
   "outputs": [],
   "source": []
  },
  {
   "cell_type": "code",
   "execution_count": null,
   "id": "f718dcee-135a-4760-a946-3a03178f2111",
   "metadata": {},
   "outputs": [],
   "source": [
    "import gurobipy as gp\n",
    "import numpy as np\n",
    "from scipy.sparse import vstack, csr_matrix, eye\n",
    "from tqdm import tqdm\n",
    "\n",
    "def get_array(name):\n",
    "    model = gp.read(f\"{path}/lp/{name}.lp\")\n",
    "    model = model.relax()\n",
    "    model.Params.LogToConsole = 0\n",
    "    \n",
    "    assert np.all(np.array(model.getAttr(\"vtype\", model.getVars())) == 'C')\n",
    "    assert model.ModelSense == 1  # 1 for min, -1 for max\n",
    "\n",
    "    A = model.getA()\n",
    "    sense = np.array(model.getAttr(\"Sense\", model.getConstrs()))\n",
    "    b = np.array(model.getAttr(\"rhs\", model.getConstrs()))\n",
    "\n",
    "    lb = np.array(model.getAttr(\"LB\", model.getVars()))\n",
    "    ub = np.array(model.getAttr(\"UB\", model.getVars()))\n",
    "    num_vars = len(lb)\n",
    "\n",
    "    # Identify where bounds are finite\n",
    "    has_lb = lb != -np.inf\n",
    "    has_ub = ub != np.inf\n",
    "\n",
    "    # Create sparse rows for lb: -x_i <= -lb_i ⇒ row = -e_i\n",
    "    A_lb = -eye(num_vars, format='csr')[has_lb]\n",
    "    b_lb = -lb[has_lb]\n",
    "\n",
    "    # Create sparse rows for ub: x_i <= ub_i ⇒ row = +e_i\n",
    "    A_ub = eye(num_vars, format='csr')[has_ub]\n",
    "    b_ub = ub[has_ub]\n",
    "\n",
    "    # Stack bound constraints\n",
    "    if A_lb.shape[0] + A_ub.shape[0] > 0:\n",
    "        A = vstack([A, A_lb, A_ub])\n",
    "        b = np.concatenate([b, b_lb, b_ub])\n",
    "\n",
    "    scalars = np.maximum(np.abs(A).max(1).toarray().squeeze(), b)\n",
    "\n",
    "    A /= scalars[:, None] + 1.e-5\n",
    "    b /= scalars + 1.e-5\n",
    "\n",
    "    # Reset bounds to (-inf, inf)\n",
    "    model.setAttr(\"LB\", model.getVars(), -np.inf)\n",
    "    model.setAttr(\"UB\", model.getVars(), np.inf)\n",
    "    model.update()\n",
    "\n",
    "    Q = model.getQ()\n",
    "    Q /= np.abs(Q).max() + 1.e-5\n",
    "    c = np.array(model.getAttr(\"obj\", model.getVars()))\n",
    "    c /= np.abs(c).max() + 1.e-5\n",
    "\n",
    "    return Q.tocoo(), c, A.tocoo(), b, model"
   ]
  },
  {
   "cell_type": "code",
   "execution_count": null,
   "id": "c5dc127e-473b-40a4-bdd8-634b86bf42e0",
   "metadata": {},
   "outputs": [],
   "source": []
  },
  {
   "cell_type": "code",
   "execution_count": null,
   "id": "6ce7f24b-d755-40f0-a25a-f1969b3c0c5f",
   "metadata": {},
   "outputs": [],
   "source": [
    "from torch_geometric.data import InMemoryDataset"
   ]
  },
  {
   "cell_type": "code",
   "execution_count": null,
   "id": "c48957a8-e059-4cc9-9f3d-bbb541a77c96",
   "metadata": {},
   "outputs": [],
   "source": [
    "graphs = []\n",
    "\n",
    "for qp_name in datos['name']:\n",
    "    print(qp_name)\n",
    "    Q, c, A, b, model = get_array(qp_name)\n",
    "\n",
    "    model.optimize()\n",
    "    all_vars = model.getVars()\n",
    "    values = model.getAttr(\"X\", all_vars)\n",
    "    solution = np.array(values)\n",
    "    obj = model.getObjective().getValue()\n",
    "\n",
    "    inactive_idx = np.where(~(np.abs(A @ solution - b) < 1.e-7))[0]\n",
    "\n",
    "    data = HeteroData(\n",
    "        qpid=int(qp_name.split('_')[1]),\n",
    "        cons={\n",
    "            'num_nodes': b.shape[0],\n",
    "            'x': torch.empty(b.shape[0], 0),\n",
    "             },\n",
    "        vals={\n",
    "            'num_nodes': c.shape[0],\n",
    "            'x': torch.empty(c.shape[0], 0),\n",
    "        },\n",
    "        cons__to__vals={'edge_index': torch.from_numpy(np.vstack([A.row, A.col])).long(),\n",
    "                        'edge_attr': torch.from_numpy(A.data)[:, None].float()},\n",
    "        vals__to__vals={'edge_index': torch.from_numpy(np.vstack([Q.row, Q.col])).long(),\n",
    "                        'edge_attr': torch.from_numpy(Q.data)[:, None].float()},\n",
    "        x_solution=torch.from_numpy(solution).float(),\n",
    "        duals=torch.ones(1).float(),  # dumb\n",
    "        obj_solution=torch.tensor(obj).float(),\n",
    "        q=torch.from_numpy(c).float(),\n",
    "        b=torch.from_numpy(b).float(),\n",
    "        inactive_idx=torch.from_numpy(inactive_idx).long(),\n",
    "        heur_idx=torch.zeros(1, dtype=torch.long)  # dumb\n",
    "    )\n",
    "    graphs.append(data)\n",
    "\n",
    "torch.save(InMemoryDataset().collate(graphs), 'datasets/qplib/processed/train.pt')\n",
    "torch.save(None, 'datasets/qplib/processed/test.pt')\n",
    "torch.save(None, 'datasets/qplib/processed/valid.pt')"
   ]
  },
  {
   "cell_type": "code",
   "execution_count": null,
   "id": "a7bd76e6-98c8-4860-b5e1-78e138f0a1e0",
   "metadata": {},
   "outputs": [],
   "source": []
  },
  {
   "cell_type": "code",
   "execution_count": null,
   "id": "73c043f1-d04c-40dd-8aa1-9d6c30bd5e33",
   "metadata": {},
   "outputs": [],
   "source": []
  },
  {
   "cell_type": "code",
   "execution_count": null,
   "id": "a647a858-4c43-40ad-bd11-128a3d8d9314",
   "metadata": {},
   "outputs": [],
   "source": [
    "from data.dataset import LPDataset"
   ]
  },
  {
   "cell_type": "code",
   "execution_count": null,
   "id": "8ab41eeb-4645-4724-94f0-64b205f34a7d",
   "metadata": {},
   "outputs": [],
   "source": [
    "ds = LPDataset('datasets/qplib', 'train')"
   ]
  },
  {
   "cell_type": "code",
   "execution_count": null,
   "id": "0ccaa334-bb42-4f69-badd-1c13f478c329",
   "metadata": {},
   "outputs": [],
   "source": [
    "ds[0].qpid"
   ]
  },
  {
   "cell_type": "code",
   "execution_count": null,
   "id": "05fd063a-5ae9-47c7-933b-044373dbbebe",
   "metadata": {},
   "outputs": [],
   "source": []
  },
  {
   "cell_type": "code",
   "execution_count": null,
   "id": "3751b8dc-2668-4c63-9f8a-a3d948af2313",
   "metadata": {},
   "outputs": [],
   "source": [
    "from transforms.lp_preserve import AddDumbVariables, OracleDropInactiveConstraint, AddRedundantConstraint, ScaleConstraint, ScaleCoordinate, OracleDropIdleVariable, OracleBiasProblem\n",
    "from transforms.lp_preserve import ComboPreservedTransforms\n",
    "from utils.evaluation import recover_qp_from_data"
   ]
  },
  {
   "cell_type": "code",
   "execution_count": null,
   "id": "8b724862-62ff-4d17-9e6e-e70f31a2d4c1",
   "metadata": {},
   "outputs": [],
   "source": [
    "Q,A,c,b,*_ = recover_qp_from_data(data, np.float64)\n",
    "solution, duals = gurobi_solve_qp(Q, c, A, b)\n",
    "0.5 * solution @ Q @ solution + c.dot(solution)"
   ]
  },
  {
   "cell_type": "code",
   "execution_count": null,
   "id": "b921c8d9-fbdc-4310-8ae4-c4d6a6ecd933",
   "metadata": {},
   "outputs": [],
   "source": []
  }
 ],
 "metadata": {
  "kernelspec": {
   "display_name": "Python 3 (ipykernel)",
   "language": "python",
   "name": "python3"
  },
  "language_info": {
   "codemirror_mode": {
    "name": "ipython",
    "version": 3
   },
   "file_extension": ".py",
   "mimetype": "text/x-python",
   "name": "python",
   "nbconvert_exporter": "python",
   "pygments_lexer": "ipython3",
   "version": "3.11.11"
  }
 },
 "nbformat": 4,
 "nbformat_minor": 5
}
