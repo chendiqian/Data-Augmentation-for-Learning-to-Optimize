{
 "cells": [
  {
   "cell_type": "code",
   "execution_count": null,
   "id": "3b0a6da5-ca98-420f-a467-e0562ff8dab2",
   "metadata": {},
   "outputs": [],
   "source": [
    "import gurobipy as gp\n",
    "import numpy as np\n",
    "import pandas as pd\n",
    "from torch_geometric.data import HeteroData\n",
    "import torch\n",
    "from tqdm import tqdm"
   ]
  },
  {
   "cell_type": "code",
   "execution_count": null,
   "id": "b77a5ac5-506b-4256-9c80-93e2cdf3d717",
   "metadata": {},
   "outputs": [],
   "source": [
    "np.random.seed(1)"
   ]
  },
  {
   "cell_type": "code",
   "execution_count": null,
   "id": "0de54c4e-027b-4bab-afef-c9f1f8aa2010",
   "metadata": {},
   "outputs": [],
   "source": [
    "path = './qplib/html'"
   ]
  },
  {
   "cell_type": "code",
   "execution_count": null,
   "id": "0e8201b1-111f-4c46-80ec-3b4d00e43e01",
   "metadata": {},
   "outputs": [],
   "source": [
    "datos = pd.read_csv(f'{path}/instancedata.csv')"
   ]
  },
  {
   "cell_type": "markdown",
   "id": "16d17537-afb2-4393-9f0d-2310c54e211f",
   "metadata": {},
   "source": [
    "find LCQPs"
   ]
  },
  {
   "cell_type": "code",
   "execution_count": null,
   "id": "2c0f8334-e4b9-483b-a899-8948fb5b1312",
   "metadata": {},
   "outputs": [],
   "source": [
    "datos = datos[datos['conscurvature'] == 'linear']\n",
    "datos = datos.drop(columns=['conscurvature'])"
   ]
  },
  {
   "cell_type": "markdown",
   "id": "f8bad277-d285-429d-b22e-030fe55cf6b9",
   "metadata": {},
   "source": [
    "remove the indefinite ones, the rest are all convex, no concave, no linear"
   ]
  },
  {
   "cell_type": "code",
   "execution_count": null,
   "id": "0751a6e6-7061-4a2d-94d7-8937ef896092",
   "metadata": {},
   "outputs": [],
   "source": [
    "datos = datos[datos['objcurvature'] == 'convex']\n",
    "datos = datos.drop(columns=['objcurvature', 'nobjquadnegev', 'convex'])"
   ]
  },
  {
   "cell_type": "code",
   "execution_count": null,
   "id": "1e126e3c-3e2d-4752-9627-abc3b8309a9b",
   "metadata": {},
   "outputs": [],
   "source": [
    "datos = datos[~np.isnan(datos['solobjvalue'])]\n",
    "datos = datos[datos['ncons'] > 0]\n",
    "# datos = datos.drop(columns=['solobjvalue'])"
   ]
  },
  {
   "cell_type": "code",
   "execution_count": null,
   "id": "25b1749b-44d7-4b82-94a7-e450460fdae8",
   "metadata": {},
   "outputs": [],
   "source": [
    "datos = datos.drop(columns=['nsos1', 'nsos2', 'nintvars', 'nquadfunc', 'objsense', 'objquadproblevfrac', 'njacobiannlnz', 'objtype', 'nnlfunc', 'nldensity', 'nnlsemi',\n",
    "                           'ndiagquadcons', 'nnlintvars', 'nindefinitenlcons', 'solinfeasibility', 'nobjnz', 'nobjnlnz', 'nlnz', 'nz', 'njacobiannz',\n",
    "                           'nlaghessiandiagnz', 'solsource', 'donor', 'nsemi', 'nquadcons', 'nobjquadnz', 'nlaghessiannz', 'nconvexnlcons', 'nlincons', 'nlinfunc',\n",
    "                           'nobjquaddiagnz', 'laghessianmaxblocksize', 'nconcavenlcons', 'nlaghessianblocks', 'laghessianminblocksize', 'nobjquadposev',\n",
    "                           'nnlbinvars', 'ncontvars', 'nnlvars', 'nbinvars', 'nsingleboundedvars', 'nboundedvars', 'laghessianavgblocksize'])"
   ]
  },
  {
   "cell_type": "code",
   "execution_count": null,
   "id": "485a92e2-f259-44ae-9efa-93b0d3e0da09",
   "metadata": {},
   "outputs": [],
   "source": [
    "datos = datos.drop([70, 76, 370, 376, 377, 380, 389, 444, 445, 430, 423, 432, 438, 446], axis=0)  # infeasible"
   ]
  },
  {
   "cell_type": "code",
   "execution_count": null,
   "id": "6df7063c-25f7-4f2c-a658-31e82f1326e8",
   "metadata": {},
   "outputs": [],
   "source": [
    "datos = datos.drop([421, 424, 450], axis=0)  # OOM"
   ]
  },
  {
   "cell_type": "code",
   "execution_count": null,
   "id": "067f006c-6afb-49cd-92eb-0e369957864f",
   "metadata": {},
   "outputs": [],
   "source": [
    "datos"
   ]
  },
  {
   "cell_type": "code",
   "execution_count": null,
   "id": "c91a5305-dc8a-41ac-8fbd-8063c13908b9",
   "metadata": {},
   "outputs": [],
   "source": []
  },
  {
   "cell_type": "code",
   "execution_count": null,
   "id": "45ffc8ee-a33d-4e3b-966e-537cadde25ed",
   "metadata": {},
   "outputs": [],
   "source": []
  },
  {
   "cell_type": "code",
   "execution_count": null,
   "id": "f718dcee-135a-4760-a946-3a03178f2111",
   "metadata": {},
   "outputs": [],
   "source": [
    "import gurobipy as gp\n",
    "import numpy as np\n",
    "from scipy.sparse import vstack, csr_matrix, eye\n",
    "from tqdm import tqdm\n",
    "\n",
    "def get_array(name):\n",
    "    model = gp.read(f\"{path}/lp/{name}.lp\")\n",
    "    model = model.relax()\n",
    "    model.Params.LogToConsole = 0\n",
    "    \n",
    "    assert np.all(np.array(model.getAttr(\"vtype\", model.getVars())) == 'C')\n",
    "    assert model.ModelSense == 1  # 1 for min, -1 for max\n",
    "\n",
    "    A = model.getA()\n",
    "    sense = np.array(model.getAttr(\"Sense\", model.getConstrs()))\n",
    "    b = np.array(model.getAttr(\"rhs\", model.getConstrs()))\n",
    "\n",
    "    lb = np.array(model.getAttr(\"LB\", model.getVars()))\n",
    "    ub = np.array(model.getAttr(\"UB\", model.getVars()))\n",
    "    num_vars = len(lb)\n",
    "\n",
    "    # Identify where bounds are finite\n",
    "    has_lb = lb != -np.inf\n",
    "    has_ub = ub != np.inf\n",
    "\n",
    "    # Create sparse rows for lb: -x_i <= -lb_i ⇒ row = -e_i\n",
    "    A_lb = -eye(num_vars, format='csr')[has_lb]\n",
    "    b_lb = -lb[has_lb]\n",
    "\n",
    "    # Create sparse rows for ub: x_i <= ub_i ⇒ row = +e_i\n",
    "    A_ub = eye(num_vars, format='csr')[has_ub]\n",
    "    b_ub = ub[has_ub]\n",
    "\n",
    "    # Stack bound constraints\n",
    "    if A_lb.shape[0] + A_ub.shape[0] > 0:\n",
    "        A = vstack([A, A_lb, A_ub])\n",
    "        b = np.concatenate([b, b_lb, b_ub])\n",
    "\n",
    "    scalars = np.maximum(np.abs(A).max(1).toarray().squeeze(), b)\n",
    "\n",
    "    A /= scalars[:, None] + 1.e-5\n",
    "    b /= scalars + 1.e-5\n",
    "\n",
    "    # Reset bounds to (-inf, inf)\n",
    "    model.setAttr(\"LB\", model.getVars(), -np.inf)\n",
    "    model.setAttr(\"UB\", model.getVars(), np.inf)\n",
    "    model.update()\n",
    "\n",
    "    Q = model.getQ()\n",
    "    Q /= np.abs(Q).max() + 1.e-5\n",
    "    c = np.array(model.getAttr(\"obj\", model.getVars()))\n",
    "    c /= np.abs(c).max() + 1.e-5\n",
    "\n",
    "    return Q.tocoo(), c, A.tocoo(), b"
   ]
  },
  {
   "cell_type": "code",
   "execution_count": null,
   "id": "c5dc127e-473b-40a4-bdd8-634b86bf42e0",
   "metadata": {},
   "outputs": [],
   "source": []
  },
  {
   "cell_type": "code",
   "execution_count": null,
   "id": "6ce7f24b-d755-40f0-a25a-f1969b3c0c5f",
   "metadata": {},
   "outputs": [],
   "source": [
    "from torch_geometric.data import InMemoryDataset"
   ]
  },
  {
   "cell_type": "code",
   "execution_count": null,
   "id": "f2ec599a-7fa9-475d-9054-f7c5f8c0d76c",
   "metadata": {},
   "outputs": [],
   "source": [
    "from utils.evaluation import gurobi_solve_qp"
   ]
  },
  {
   "cell_type": "code",
   "execution_count": null,
   "id": "e25210f8-d7ba-4571-aa0d-5371fdfac26a",
   "metadata": {},
   "outputs": [],
   "source": []
  },
  {
   "cell_type": "code",
   "execution_count": null,
   "id": "433ee83f-09f8-4a57-a04d-d7a59a6266c4",
   "metadata": {},
   "outputs": [],
   "source": []
  },
  {
   "cell_type": "code",
   "execution_count": null,
   "id": "a3390f32-36a6-48a3-9f7e-5555408995c5",
   "metadata": {},
   "outputs": [],
   "source": []
  },
  {
   "cell_type": "code",
   "execution_count": null,
   "id": "d4b9c417-e5ba-408c-be50-5a1c6f9b897e",
   "metadata": {},
   "outputs": [],
   "source": []
  },
  {
   "cell_type": "code",
   "execution_count": null,
   "id": "c3997b66-d5a0-4d13-bbfd-a07e9d4d7340",
   "metadata": {},
   "outputs": [],
   "source": []
  },
  {
   "cell_type": "markdown",
   "id": "57f0c3ab-8f6f-46d7-866b-b936d37f8095",
   "metadata": {},
   "source": [
    "## test set, the original instaces"
   ]
  },
  {
   "cell_type": "code",
   "execution_count": null,
   "id": "2aee9802-affe-4929-8737-32a27af2d5c8",
   "metadata": {},
   "outputs": [],
   "source": [
    "test_sets = []\n",
    "\n",
    "for qp_name in tqdm(datos['name']):\n",
    "    print(qp_name)\n",
    "    Q, c, A, b = get_array(qp_name)\n",
    "\n",
    "    solution, duals, model = gurobi_solve_qp(Q, c, A, b)\n",
    "    obj = model.getObjective().getValue()\n",
    "\n",
    "    inactive_idx = np.where(~(np.abs(A @ solution - b) < 1.e-7))[0]\n",
    "\n",
    "    data = HeteroData(\n",
    "        qpid=int(qp_name.split('_')[1]),\n",
    "        cons={\n",
    "            'num_nodes': b.shape[0],\n",
    "            'x': torch.empty(b.shape[0], 0),\n",
    "             },\n",
    "        vals={\n",
    "            'num_nodes': c.shape[0],\n",
    "            'x': torch.empty(c.shape[0], 0),\n",
    "        },\n",
    "        cons__to__vals={'edge_index': torch.from_numpy(np.vstack([A.row, A.col])).long(),\n",
    "                        'edge_attr': torch.from_numpy(A.data)[:, None].float()},\n",
    "        vals__to__vals={'edge_index': torch.from_numpy(np.vstack([Q.row, Q.col])).long(),\n",
    "                        'edge_attr': torch.from_numpy(Q.data)[:, None].float()},\n",
    "        x_solution=torch.from_numpy(solution).float(),\n",
    "        duals=torch.ones(1).float(),  # dumb\n",
    "        obj_solution=torch.tensor(obj).float(),\n",
    "        q=torch.from_numpy(c).float(),\n",
    "        b=torch.from_numpy(b).float(),\n",
    "        inactive_idx=torch.from_numpy(inactive_idx).long(),\n",
    "        heur_idx=torch.zeros(1, dtype=torch.long)  # dumb\n",
    "    )\n",
    "    test_sets.append(data)\n",
    "\n",
    "torch.save(InMemoryDataset().collate(test_sets), f'datasets/qplib/processed/test.pt')"
   ]
  },
  {
   "cell_type": "code",
   "execution_count": null,
   "id": "c2cb3ed0-5b42-4eae-bf43-6c6030c06a69",
   "metadata": {},
   "outputs": [],
   "source": []
  },
  {
   "cell_type": "code",
   "execution_count": null,
   "id": "3c4f4296-1473-4aec-86e7-14bcd35e5a06",
   "metadata": {},
   "outputs": [],
   "source": []
  },
  {
   "cell_type": "code",
   "execution_count": null,
   "id": "87029e94-bcce-4657-b7d0-c0db57817549",
   "metadata": {},
   "outputs": [],
   "source": []
  },
  {
   "cell_type": "markdown",
   "id": "c4caef9a-07b3-4d5e-9eea-7f29c6f60491",
   "metadata": {},
   "source": [
    "## train, augment each with 50 instances"
   ]
  },
  {
   "cell_type": "code",
   "execution_count": null,
   "id": "c48957a8-e059-4cc9-9f3d-bbb541a77c96",
   "metadata": {},
   "outputs": [],
   "source": [
    "train_sets = []\n",
    "train_rate = 55  # enriched graphs per instance\n",
    "\n",
    "for qp_name in tqdm(datos['name']):\n",
    "    print(qp_name)\n",
    "    Q, c, A, b = get_array(qp_name)\n",
    "\n",
    "    Q_index = torch.from_numpy(np.vstack([Q.row, Q.col])).long()\n",
    "    A_index = torch.from_numpy(np.vstack([A.row, A.col])).long()\n",
    "\n",
    "    train_sets = []\n",
    "    fails = 0\n",
    "    q_flag = True\n",
    "    while len(train_sets) < train_rate:\n",
    "        Q1 = Q.copy()\n",
    "        if q_flag:\n",
    "            Q1.data *= np.random.rand(*Q1.data.shape) + 0.5\n",
    "        \n",
    "        A1 = A.copy()\n",
    "        A1.data *= np.random.rand(*A1.data.shape) + 0.5\n",
    "        \n",
    "        c1 = c.copy()\n",
    "        c1 *= np.random.rand(*c1.shape) + 0.5\n",
    "        \n",
    "        b1 = b.copy()\n",
    "        b1 *= np.random.rand(*b1.shape) + 0.5\n",
    "\n",
    "        solution, duals, model = gurobi_solve_qp(Q1, c1, A1, b1)\n",
    "        if solution is not None:\n",
    "            inactive_idx = np.where(~(np.abs(A1 @ solution - b1) < 1.e-7))[0]\n",
    "            obj = model.getObjective().getValue()\n",
    "            data = HeteroData(\n",
    "                cons={\n",
    "                    'num_nodes': b1.shape[0],\n",
    "                    'x': torch.empty(b1.shape[0], 0),\n",
    "                     },\n",
    "                vals={\n",
    "                    'num_nodes': c1.shape[0],\n",
    "                    'x': torch.empty(c1.shape[0], 0),\n",
    "                },\n",
    "                cons__to__vals={'edge_index': A_index,\n",
    "                                'edge_attr': torch.from_numpy(A1.data)[:, None].float()},\n",
    "                vals__to__vals={'edge_index': Q_index,\n",
    "                                'edge_attr': torch.from_numpy(Q1.data)[:, None].float()},\n",
    "                x_solution=torch.from_numpy(solution).float(),\n",
    "                duals=torch.from_numpy(duals).float(),\n",
    "                obj_solution=torch.tensor(obj).float(),\n",
    "                q=torch.from_numpy(c1).float(),\n",
    "                b=torch.from_numpy(b1).float(),\n",
    "                inactive_idx=torch.from_numpy(inactive_idx).long(),\n",
    "                heur_idx=torch.zeros(1, dtype=torch.long)  # dumb\n",
    "            )\n",
    "            train_sets.append(data)\n",
    "        else:\n",
    "            fails += 1\n",
    "            q_flag = False\n",
    "            if fails > 10:\n",
    "                break\n",
    "        print(f'train: {len(train_sets)}')\n",
    "\n",
    "    if len(train_sets) == train_rate:\n",
    "        torch.save(InMemoryDataset().collate(train_sets), f'datasets/qplib/processed/enriched{qp_name}.pt')"
   ]
  },
  {
   "cell_type": "code",
   "execution_count": null,
   "id": "69b08809-3cbe-4f2b-85d8-e64abee15be7",
   "metadata": {},
   "outputs": [],
   "source": []
  },
  {
   "cell_type": "code",
   "execution_count": null,
   "id": "b5627aba-275b-4d51-a42b-0b7d1154daa2",
   "metadata": {},
   "outputs": [],
   "source": [
    "data_dict = {}\n",
    "for name in datos['name']:\n",
    "    data, slices = torch.load(f'datasets/qplib/processed/enriched{name}.pt')\n",
    "    data_list = [separate(cls=HeteroData,\n",
    "                        batch=data,\n",
    "                        idx=i,\n",
    "                        slice_dict=slices,\n",
    "                        decrement=False,) for i in range(55)]\n",
    "    data_dict[name] = data_list"
   ]
  },
  {
   "cell_type": "code",
   "execution_count": null,
   "id": "f41de5f0-db61-43e7-a976-95200cbc8bc5",
   "metadata": {},
   "outputs": [],
   "source": [
    "train_list = []\n",
    "\n",
    "for i in range(50):\n",
    "    for name in datos['name']:\n",
    "        train_list.append(data_dict[name][i])"
   ]
  },
  {
   "cell_type": "code",
   "execution_count": null,
   "id": "efb9235a-7a36-4102-be45-0030c9c1bbcb",
   "metadata": {},
   "outputs": [],
   "source": [
    "len(data_dict)"
   ]
  },
  {
   "cell_type": "code",
   "execution_count": null,
   "id": "1c29eb2c-88e1-4555-b3c7-03bfd4db36a0",
   "metadata": {},
   "outputs": [],
   "source": [
    "len(train_list)"
   ]
  },
  {
   "cell_type": "code",
   "execution_count": null,
   "id": "e36324a7-f0cf-42cd-a83f-21a6fb7c8a24",
   "metadata": {},
   "outputs": [],
   "source": [
    "torch.save(InMemoryDataset().collate(train_list), f'datasets/qplib/processed/train.pt')"
   ]
  },
  {
   "cell_type": "code",
   "execution_count": null,
   "id": "aa920fd3-09b8-4722-8983-8eacad6fe9df",
   "metadata": {},
   "outputs": [],
   "source": [
    "val_list = []\n",
    "\n",
    "for i in range(50, 55):\n",
    "    for name in datos['name']:\n",
    "        val_list.append(data_dict[name][i])"
   ]
  },
  {
   "cell_type": "code",
   "execution_count": null,
   "id": "6b4c27a9-b11c-4b0d-8c19-417abd769126",
   "metadata": {},
   "outputs": [],
   "source": [
    "len(val_list)"
   ]
  },
  {
   "cell_type": "code",
   "execution_count": null,
   "id": "90a99275-e88a-4887-b5a3-83c18cd7efa8",
   "metadata": {},
   "outputs": [],
   "source": [
    "torch.save(InMemoryDataset().collate(val_list), f'datasets/qplib/processed/valid.pt')"
   ]
  },
  {
   "cell_type": "code",
   "execution_count": null,
   "id": "494c925a-de0d-474e-ac0c-1307b5df18d0",
   "metadata": {},
   "outputs": [],
   "source": []
  },
  {
   "cell_type": "code",
   "execution_count": null,
   "id": "73c043f1-d04c-40dd-8aa1-9d6c30bd5e33",
   "metadata": {},
   "outputs": [],
   "source": []
  },
  {
   "cell_type": "code",
   "execution_count": null,
   "id": "a647a858-4c43-40ad-bd11-128a3d8d9314",
   "metadata": {},
   "outputs": [],
   "source": [
    "from data.dataset import LPDataset"
   ]
  },
  {
   "cell_type": "code",
   "execution_count": null,
   "id": "8ab41eeb-4645-4724-94f0-64b205f34a7d",
   "metadata": {},
   "outputs": [],
   "source": [
    "ds = LPDataset('datasets/qplib', 'train')"
   ]
  },
  {
   "cell_type": "code",
   "execution_count": null,
   "id": "b921c8d9-fbdc-4310-8ae4-c4d6a6ecd933",
   "metadata": {},
   "outputs": [],
   "source": []
  }
 ],
 "metadata": {
  "kernelspec": {
   "display_name": "Python 3 (ipykernel)",
   "language": "python",
   "name": "python3"
  },
  "language_info": {
   "codemirror_mode": {
    "name": "ipython",
    "version": 3
   },
   "file_extension": ".py",
   "mimetype": "text/x-python",
   "name": "python",
   "nbconvert_exporter": "python",
   "pygments_lexer": "ipython3",
   "version": "3.11.11"
  }
 },
 "nbformat": 4,
 "nbformat_minor": 5
}
