{
 "cells": [
  {
   "cell_type": "code",
   "execution_count": 1,
   "id": "86067865-0742-4b44-a0e2-bc87447a977a",
   "metadata": {
    "is_executing": true,
    "tags": []
   },
   "outputs": [],
   "source": [
    "%load_ext autoreload\n",
    "%autoreload 2\n",
    "%load_ext line_profiler"
   ]
  },
  {
   "cell_type": "code",
   "execution_count": 2,
   "id": "c613b1ca-4366-4c13-b0d4-47e581195d5b",
   "metadata": {
    "tags": []
   },
   "outputs": [],
   "source": [
    "from scipy.optimize import linprog\n",
    "from tqdm import tqdm\n",
    "\n",
    "import os\n",
    "import torch\n",
    "from scipy.linalg import LinAlgWarning, LinAlgError\n",
    "from scipy.optimize._optimize import OptimizeWarning\n",
    "from scipy.optimize._linprog_util import _clean_inputs, _get_Abc\n",
    "import warnings\n",
    "import numpy as np\n",
    "\n",
    "from generate_instances_lp import generate_setcover, Graph, generate_indset, generate_cauctions, generate_capacited_facility_location"
   ]
  },
  {
   "cell_type": "code",
   "execution_count": 3,
   "id": "5253b78c-64f5-4b2d-b4d9-fd7107bbdebd",
   "metadata": {
    "tags": []
   },
   "outputs": [],
   "source": [
    "rng = np.random.RandomState(1)"
   ]
  },
  {
   "cell_type": "code",
   "execution_count": 4,
   "id": "8b652b7b-01d0-438e-a131-6ef82950ec7f",
   "metadata": {},
   "outputs": [],
   "source": [
    "from scipy.linalg import qr\n",
    "from torch_geometric.data import Batch, HeteroData, InMemoryDataset\n",
    "from collections import namedtuple\n",
    "\n",
    "_LPProblem = namedtuple('_LPProblem',\n",
    "                        'c A_ub b_ub A_eq b_eq bounds x0 integrality')\n",
    "_LPProblem.__new__.__defaults__ = (None,) * 7  # make c the only required arg"
   ]
  },
  {
   "cell_type": "code",
   "execution_count": 5,
   "id": "e690cdaf-1b03-457b-9562-9655f53fb621",
   "metadata": {},
   "outputs": [],
   "source": [
    "def normalize_cons(A, b):\n",
    "    if A is None or b is None:\n",
    "        return A, b\n",
    "    Ab = np.concatenate([A, b[:, None]], axis=1)\n",
    "    max_logit = np.abs(Ab).max(axis=1)\n",
    "    max_logit[max_logit == 0] = 1.\n",
    "    Ab = Ab / max_logit[:, None]\n",
    "    A = Ab[:, :-1]\n",
    "    b = Ab[:, -1]\n",
    "    return A, b"
   ]
  },
  {
   "cell_type": "code",
   "execution_count": 6,
   "id": "a34aa5c5-94b8-45bd-820d-028f5affaa0c",
   "metadata": {},
   "outputs": [],
   "source": [
    "def surrogate_gen(m, n, d):\n",
    "    A = np.random.randn(m, n)\n",
    "    A[np.random.rand(m, n) > d] = 0.\n",
    "    x_feas = np.abs(np.random.randn(n))  # Ensure x_feas is non-negative\n",
    "    b = A @ x_feas + np.abs(np.random.randn(m)) * 10  # Ensure feasibility\n",
    "\n",
    "    c = np.abs(np.random.randn(n))\n",
    "    return A, b, c"
   ]
  },
  {
   "cell_type": "code",
   "execution_count": null,
   "id": "6f6f5ed2-08ca-4d9d-b2fc-6d512b989e24",
   "metadata": {},
   "outputs": [],
   "source": []
  },
  {
   "cell_type": "code",
   "execution_count": 7,
   "id": "07f1375e-fae5-4caf-bb37-fcdfebe876a4",
   "metadata": {},
   "outputs": [],
   "source": [
    "A, b, c = surrogate_gen(50, 100, 0.1)\n",
    "c = c / (np.abs(c).max() + 1.e-10)  # does not change the result\n",
    "A, b = normalize_cons(A, b)\n",
    "bounds = None"
   ]
  },
  {
   "cell_type": "code",
   "execution_count": 8,
   "id": "ec1ec40d-fc16-49c9-8454-ead99e5ad4c2",
   "metadata": {},
   "outputs": [],
   "source": [
    "m, n = A.shape"
   ]
  },
  {
   "cell_type": "code",
   "execution_count": 9,
   "id": "43eaefd9-c078-4e48-bfb4-4175f9688d1b",
   "metadata": {},
   "outputs": [],
   "source": [
    "# lp = _LPProblem(c, A, b, None, None, None, None, None)\n",
    "# lp = _clean_inputs(lp)\n",
    "# A, b, c, *_ = _get_Abc(lp, 0.)"
   ]
  },
  {
   "cell_type": "code",
   "execution_count": 10,
   "id": "8aa5a924-cdd8-4e23-b21a-80dd4a51f72e",
   "metadata": {},
   "outputs": [
    {
     "data": {
      "text/plain": [
       "(50, 100)"
      ]
     },
     "execution_count": 10,
     "metadata": {},
     "output_type": "execute_result"
    }
   ],
   "source": [
    "A.shape"
   ]
  },
  {
   "cell_type": "code",
   "execution_count": 11,
   "id": "f5ab1b8b-7179-4b7d-b71e-5abc176a4d55",
   "metadata": {},
   "outputs": [
    {
     "data": {
      "text/plain": [
       "50"
      ]
     },
     "execution_count": 11,
     "metadata": {},
     "output_type": "execute_result"
    }
   ],
   "source": [
    "np.linalg.matrix_rank(A)"
   ]
  },
  {
   "cell_type": "code",
   "execution_count": 12,
   "id": "a2344191-ffc8-444d-905c-bd5020a1b249",
   "metadata": {},
   "outputs": [
    {
     "data": {
      "text/plain": [
       "3.518963395737572"
      ]
     },
     "execution_count": 12,
     "metadata": {},
     "output_type": "execute_result"
    }
   ],
   "source": [
    "res = linprog(c, A_ub=A, b_ub=b, bounds=None, method='highs')\n",
    "res.x.max()"
   ]
  },
  {
   "cell_type": "code",
   "execution_count": null,
   "id": "ca02b456-4274-4b58-b874-3c29e3514592",
   "metadata": {},
   "outputs": [],
   "source": []
  },
  {
   "cell_type": "code",
   "execution_count": 13,
   "id": "17eb8b36-a851-4f56-986d-3afba9eb8bb6",
   "metadata": {},
   "outputs": [],
   "source": [
    "def active_idx(A, x, b, eps=1.e-8):\n",
    "    vio = A @ res.x - b\n",
    "    assert vio.max() <= eps\n",
    "    vio_mask = np.abs(vio) < eps\n",
    "    return np.where(vio_mask)[0]"
   ]
  },
  {
   "cell_type": "markdown",
   "id": "2dbb7fa8-275c-4136-8c7c-73a838075bac",
   "metadata": {},
   "source": [
    "# A @ c + b smaller, more likely to be active"
   ]
  },
  {
   "cell_type": "code",
   "execution_count": null,
   "id": "22ed0966-0211-4970-9959-246801603156",
   "metadata": {},
   "outputs": [],
   "source": [
    "actives = active_idx(A, res.x, b)"
   ]
  },
  {
   "cell_type": "code",
   "execution_count": null,
   "id": "9046c164-1a49-4157-a031-fa3c1b0bb30d",
   "metadata": {},
   "outputs": [],
   "source": [
    "actives"
   ]
  },
  {
   "cell_type": "code",
   "execution_count": null,
   "id": "013e60ba-ea53-441c-9dce-3a1c42819708",
   "metadata": {},
   "outputs": [],
   "source": [
    "actives.shape[0], m"
   ]
  },
  {
   "cell_type": "code",
   "execution_count": null,
   "id": "2b2a3dd1-b641-471b-974d-83a98980753a",
   "metadata": {},
   "outputs": [],
   "source": []
  },
  {
   "cell_type": "code",
   "execution_count": null,
   "id": "076f9e9a-9bc2-44e7-88e6-629b14ee8051",
   "metadata": {},
   "outputs": [],
   "source": []
  },
  {
   "cell_type": "code",
   "execution_count": null,
   "id": "d9463087-39a8-4aa5-ac31-c603eeb4bf3d",
   "metadata": {},
   "outputs": [],
   "source": [
    "# heur = A @ c + b\n",
    "# heur"
   ]
  },
  {
   "cell_type": "code",
   "execution_count": null,
   "id": "46e0d30c-9dbc-4300-a604-44340df4c25e",
   "metadata": {},
   "outputs": [],
   "source": []
  },
  {
   "cell_type": "code",
   "execution_count": null,
   "id": "69b34526-c881-4b33-9b03-508c1a325179",
   "metadata": {},
   "outputs": [],
   "source": [
    "heur"
   ]
  },
  {
   "cell_type": "code",
   "execution_count": null,
   "id": "b193edd9-8f14-4040-846e-4e32129591c1",
   "metadata": {},
   "outputs": [],
   "source": []
  },
  {
   "cell_type": "code",
   "execution_count": null,
   "id": "f1a2d543-03f0-4497-a585-07fd76b13fa1",
   "metadata": {},
   "outputs": [],
   "source": [
    "topk = 10"
   ]
  },
  {
   "cell_type": "code",
   "execution_count": null,
   "id": "fd0618dd-0da4-4237-a89e-8277b0a8bf4a",
   "metadata": {},
   "outputs": [],
   "source": [
    "sortd_Ac_add_b = np.argsort(heur)"
   ]
  },
  {
   "cell_type": "code",
   "execution_count": null,
   "id": "c53f3fef-4610-480f-af89-3a87c39bf4f3",
   "metadata": {},
   "outputs": [],
   "source": [
    "preds = np.isin(sortd_Ac_add_b[:topk], actives)"
   ]
  },
  {
   "cell_type": "code",
   "execution_count": null,
   "id": "12aac0fd-68a5-42cb-a403-a04ccc112e2a",
   "metadata": {},
   "outputs": [],
   "source": [
    "preds.sum() / preds.shape[0]"
   ]
  },
  {
   "cell_type": "code",
   "execution_count": null,
   "id": "84d3351e-25fc-4b51-8994-74c265d39bc8",
   "metadata": {},
   "outputs": [],
   "source": [
    "preds = np.isin(sortd_Ac_add_b[-topk:], actives)"
   ]
  },
  {
   "cell_type": "code",
   "execution_count": null,
   "id": "86343243-ba99-4462-909e-bb53e592a8bf",
   "metadata": {},
   "outputs": [],
   "source": [
    "preds.sum() / preds.shape[0]"
   ]
  },
  {
   "cell_type": "code",
   "execution_count": null,
   "id": "815954b7-bed5-492b-b47a-923f8b9a937f",
   "metadata": {},
   "outputs": [],
   "source": [
    "actives"
   ]
  },
  {
   "cell_type": "code",
   "execution_count": null,
   "id": "e712508f-33e0-4e55-ad76-c82c27404c69",
   "metadata": {},
   "outputs": [],
   "source": []
  },
  {
   "cell_type": "code",
   "execution_count": null,
   "id": "d82d6157-2677-44cb-abd6-a1efd76d39ab",
   "metadata": {},
   "outputs": [],
   "source": [
    "np.isin(sortd_Ac_add_b, actives).astype(np.int32)"
   ]
  },
  {
   "cell_type": "code",
   "execution_count": null,
   "id": "47663cfc-9c89-4797-adf2-85ab6eaebd7d",
   "metadata": {},
   "outputs": [],
   "source": []
  },
  {
   "cell_type": "code",
   "execution_count": null,
   "id": "3d208b0b-96d4-4f85-87d5-4ed72e19ac0b",
   "metadata": {},
   "outputs": [],
   "source": []
  },
  {
   "cell_type": "markdown",
   "id": "2e129e87-d6d0-417f-a05e-9c8dd22a5fc6",
   "metadata": {},
   "source": [
    "# todo: sensitive analys, for example, add some bias to cons 6, does it change x solution? (6 is not active, but also may affect)"
   ]
  },
  {
   "cell_type": "code",
   "execution_count": null,
   "id": "73dda2ae-cc69-4320-b728-443806988a99",
   "metadata": {},
   "outputs": [],
   "source": []
  },
  {
   "cell_type": "markdown",
   "id": "3d729c32-7c1b-4ec3-a823-58a9a0b5a8a3",
   "metadata": {},
   "source": [
    "feasible point"
   ]
  },
  {
   "cell_type": "markdown",
   "id": "b01084e8-9986-4374-9e82-9001eaad7949",
   "metadata": {},
   "source": [
    "# TODO:\n",
    "\n",
    "split this into l2, l1, log"
   ]
  },
  {
   "cell_type": "code",
   "execution_count": null,
   "id": "1aa4e4c5-d97f-48d6-b2f0-61f8ed003bb6",
   "metadata": {},
   "outputs": [],
   "source": [
    "def find_feas(A, b, c, x0, maxiter = 1000):\n",
    "    m = np.zeros_like(x0)\n",
    "    v = np.zeros_like(x0)\n",
    "    beta1 = 0.9\n",
    "    beta2 = 0.999\n",
    "    learning_rate = 0.1\n",
    "    eps = 1.e-8\n",
    "\n",
    "    pbar = tqdm(range(maxiter))\n",
    "    for i in pbar:\n",
    "        residual = A @ x0 - b\n",
    "        bias = residual.max()\n",
    "    \n",
    "        pbar.set_postfix({'res': residual.max(), 'x': x0.min()})\n",
    "        if residual.max() <= -1. and x0.min() >= 0.:\n",
    "            break\n",
    "        \n",
    "        # grad = A.T @ np.where(residual > 0, residual, 0.) - np.where(x0 < 0, x0, 0.)\n",
    "        # grad = A.T @ np.where(residual > 0, 1, 0.) - np.where(x0 < 0, -1, 0.)\n",
    "        grad = A.T @ (1. / (-residual + bias + 0.1)) - np.where(x0 < 0, x0, 0.)\n",
    "        m = (1 - beta1) * grad + beta1 * m  # first  moment estimate.\n",
    "        v = (1 - beta2) * (grad ** 2) + beta2 * v  # second moment estimate.\n",
    "        mhat = m / (1 - beta1**(i + 1))  # bias correction.\n",
    "        vhat = v / (1 - beta2**(i + 1))\n",
    "        x0 = x0 - learning_rate * mhat / (np.sqrt(vhat) + eps)\n",
    "        x0[x0 < 0] = 0.\n",
    "    return x0"
   ]
  },
  {
   "cell_type": "code",
   "execution_count": null,
   "id": "85e5ca2a-70bb-4604-9070-cb05d2486f48",
   "metadata": {},
   "outputs": [],
   "source": [
    "x = find_feas(A, b, c, np.abs(np.random.randn(c.shape[0])), 1000)"
   ]
  },
  {
   "cell_type": "code",
   "execution_count": null,
   "id": "788d9fb0-d080-4023-b1d7-56f4db0dd704",
   "metadata": {},
   "outputs": [],
   "source": [
    "np.argmax(A @ (x - a * c) - b)"
   ]
  },
  {
   "cell_type": "code",
   "execution_count": null,
   "id": "31491194-b18b-4431-9396-1f619919b9af",
   "metadata": {},
   "outputs": [],
   "source": [
    "np.argmax(A @ x - b)"
   ]
  },
  {
   "cell_type": "code",
   "execution_count": null,
   "id": "59cd730a-0c8d-4153-a3f4-d628b7e6bce7",
   "metadata": {},
   "outputs": [],
   "source": [
    "A[46]"
   ]
  },
  {
   "cell_type": "code",
   "execution_count": null,
   "id": "a75f1a1f-d14d-4273-8f81-2959e9eb42e4",
   "metadata": {},
   "outputs": [],
   "source": [
    "np.abs()"
   ]
  },
  {
   "cell_type": "code",
   "execution_count": null,
   "id": "e75d758c-e836-479f-a883-51db5d604706",
   "metadata": {},
   "outputs": [],
   "source": [
    "def find_close_cons(x, A, b, c):\n",
    "    neg_mask = (-c < 0)\n",
    "    steps1 = x[neg_mask] / c[neg_mask]\n",
    "    if len(steps1):\n",
    "        alpha1 = steps1.min()\n",
    "    else:\n",
    "        alpha1 = 1.e8\n",
    "    \n",
    "    neg_mask = (A @ c < 0)\n",
    "    steps2 = (A @ x - b)[neg_mask] / (A @ c - 1.e-10)[neg_mask]\n",
    "    if len(steps2):\n",
    "        alpha2 = steps2.min()\n",
    "    else:\n",
    "        alpha2 = 1.e8\n",
    "\n",
    "    a = min(alpha1, alpha2)\n",
    "    assert (A @ (x - a * c) - b).max() <= 0.\n",
    "    return a"
   ]
  },
  {
   "cell_type": "code",
   "execution_count": null,
   "id": "9211966c-bfdd-43e0-aca5-3b38539a2f98",
   "metadata": {},
   "outputs": [],
   "source": [
    "a = find_close_cons(x, A, b, c)"
   ]
  },
  {
   "cell_type": "code",
   "execution_count": null,
   "id": "c0769d04-c097-4954-a650-062e554ae077",
   "metadata": {},
   "outputs": [],
   "source": [
    "np.argmax(A @ (x - a * c) - b)"
   ]
  },
  {
   "cell_type": "code",
   "execution_count": null,
   "id": "76d66673-ff3e-45c4-97a3-95f05e572c3f",
   "metadata": {},
   "outputs": [],
   "source": [
    "np.argmax(A @ x - b)"
   ]
  },
  {
   "cell_type": "code",
   "execution_count": null,
   "id": "d98cb2fb-ea6f-44c1-b5aa-03b92d521c38",
   "metadata": {},
   "outputs": [],
   "source": []
  },
  {
   "cell_type": "code",
   "execution_count": null,
   "id": "8aeccba9-6ad5-4de8-bd4e-db1234cd2d5e",
   "metadata": {},
   "outputs": [],
   "source": [
    "a = find_close_cons(x, A, b, np.eye(x.shape[0])[4])"
   ]
  },
  {
   "cell_type": "code",
   "execution_count": null,
   "id": "f29309e4-86e9-46fa-8ee7-3d94935ea2b1",
   "metadata": {},
   "outputs": [],
   "source": [
    "np.argmax(A @ (x - a * c) - b)"
   ]
  },
  {
   "cell_type": "code",
   "execution_count": null,
   "id": "0fe258dd-839a-4ea3-9e67-b197b0bfb231",
   "metadata": {},
   "outputs": [],
   "source": [
    "np.argmax(A @ x - b)"
   ]
  },
  {
   "cell_type": "code",
   "execution_count": null,
   "id": "ae42dbed-215a-4357-89dc-e4f609ca6c18",
   "metadata": {},
   "outputs": [],
   "source": []
  },
  {
   "cell_type": "markdown",
   "id": "32dd4b89-3794-4196-b86f-7b6447d79778",
   "metadata": {},
   "source": [
    "observed problem: if a point is too close to a cons, then its closest cons is pretty much the same as its steepest cons!  \n",
    "\n",
    "solution 1: find an orthogonal direction (heuristic: find Ai @ eye, argmin(abs))  \n",
    "solution 2: push it further into the center of the feasible region, use sum log loss func for grad descent"
   ]
  },
  {
   "cell_type": "code",
   "execution_count": null,
   "id": "910037b9-3df5-46e9-8a07-a2a7487329e3",
   "metadata": {},
   "outputs": [],
   "source": []
  }
 ],
 "metadata": {
  "kernelspec": {
   "display_name": "Python 3 (ipykernel)",
   "language": "python",
   "name": "python3"
  },
  "language_info": {
   "codemirror_mode": {
    "name": "ipython",
    "version": 3
   },
   "file_extension": ".py",
   "mimetype": "text/x-python",
   "name": "python",
   "nbconvert_exporter": "python",
   "pygments_lexer": "ipython3",
   "version": "3.10.14"
  }
 },
 "nbformat": 4,
 "nbformat_minor": 5
}
