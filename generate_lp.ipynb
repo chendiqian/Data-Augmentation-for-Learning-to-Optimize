{
 "cells": [
  {
   "cell_type": "code",
   "execution_count": 1,
   "id": "86067865-0742-4b44-a0e2-bc87447a977a",
   "metadata": {
    "is_executing": true,
    "tags": []
   },
   "outputs": [],
   "source": [
    "%load_ext autoreload\n",
    "%autoreload 2\n",
    "%load_ext line_profiler"
   ]
  },
  {
   "cell_type": "code",
   "execution_count": 2,
   "id": "c613b1ca-4366-4c13-b0d4-47e581195d5b",
   "metadata": {
    "tags": []
   },
   "outputs": [],
   "source": [
    "from scipy.optimize import linprog\n",
    "from tqdm import tqdm\n",
    "\n",
    "import os\n",
    "import torch\n",
    "from scipy.linalg import LinAlgWarning, LinAlgError\n",
    "from scipy.optimize._optimize import OptimizeWarning\n",
    "from scipy.optimize._linprog_util import _clean_inputs, _get_Abc\n",
    "import warnings\n",
    "import numpy as np\n",
    "\n",
    "from generate_instances_lp import generate_setcover, Graph, generate_indset, generate_cauctions, generate_capacited_facility_location"
   ]
  },
  {
   "cell_type": "code",
   "execution_count": 3,
   "id": "5253b78c-64f5-4b2d-b4d9-fd7107bbdebd",
   "metadata": {
    "tags": []
   },
   "outputs": [],
   "source": [
    "rng = np.random.RandomState(1)"
   ]
  },
  {
   "cell_type": "code",
   "execution_count": 4,
   "id": "8b652b7b-01d0-438e-a131-6ef82950ec7f",
   "metadata": {},
   "outputs": [],
   "source": [
    "from scipy.linalg import qr\n",
    "from torch_geometric.data import Batch, HeteroData, InMemoryDataset\n",
    "from collections import namedtuple\n",
    "\n",
    "_LPProblem = namedtuple('_LPProblem',\n",
    "                        'c A_ub b_ub A_eq b_eq bounds x0 integrality')\n",
    "_LPProblem.__new__.__defaults__ = (None,) * 7  # make c the only required arg"
   ]
  },
  {
   "cell_type": "code",
   "execution_count": 5,
   "id": "e690cdaf-1b03-457b-9562-9655f53fb621",
   "metadata": {},
   "outputs": [],
   "source": [
    "def normalize_cons(A, b):\n",
    "    if A is None or b is None:\n",
    "        return A, b\n",
    "    Ab = np.concatenate([A, b[:, None]], axis=1)\n",
    "    max_logit = np.abs(Ab).max(axis=1)\n",
    "    max_logit[max_logit == 0] = 1.\n",
    "    Ab = Ab / max_logit[:, None]\n",
    "    A = Ab[:, :-1]\n",
    "    b = Ab[:, -1]\n",
    "    return A, b"
   ]
  },
  {
   "cell_type": "code",
   "execution_count": null,
   "id": "1127d6de-2312-4f41-8a0c-f87d79b4c733",
   "metadata": {},
   "outputs": [],
   "source": []
  },
  {
   "cell_type": "code",
   "execution_count": null,
   "id": "169765cb-ae36-4d46-905f-5523b29a995c",
   "metadata": {},
   "outputs": [],
   "source": []
  },
  {
   "cell_type": "code",
   "execution_count": 387,
   "id": "a34aa5c5-94b8-45bd-820d-028f5affaa0c",
   "metadata": {},
   "outputs": [],
   "source": [
    "def surrogate_gen(m, n, d):\n",
    "    A = np.random.randn(m, n)\n",
    "    A[np.random.rand(m, n) > d] = 0.\n",
    "    x_feas = np.abs(np.random.randn(n))  # Ensure x_feas is non-negative\n",
    "    b = A @ x_feas + np.abs(np.random.randn(m)) * 10  # Ensure feasibility\n",
    "\n",
    "    c = np.abs(np.random.randn(n))\n",
    "    return A, b, c"
   ]
  },
  {
   "cell_type": "code",
   "execution_count": 393,
   "id": "07f1375e-fae5-4caf-bb37-fcdfebe876a4",
   "metadata": {},
   "outputs": [],
   "source": [
    "A, b, c = surrogate_gen(500, 1000, 0.1)\n",
    "c = c / (np.abs(c).max() + 1.e-10)  # does not change the result\n",
    "A, b = normalize_cons(A, b)\n",
    "bounds = None"
   ]
  },
  {
   "cell_type": "code",
   "execution_count": 394,
   "id": "ec1ec40d-fc16-49c9-8454-ead99e5ad4c2",
   "metadata": {},
   "outputs": [],
   "source": [
    "m, n = A.shape"
   ]
  },
  {
   "cell_type": "code",
   "execution_count": 395,
   "id": "43eaefd9-c078-4e48-bfb4-4175f9688d1b",
   "metadata": {},
   "outputs": [],
   "source": [
    "# lp = _LPProblem(c, A, b, None, None, None, None, None)\n",
    "# lp = _clean_inputs(lp)\n",
    "# A, b, c, *_ = _get_Abc(lp, 0.)"
   ]
  },
  {
   "cell_type": "code",
   "execution_count": 396,
   "id": "f5ab1b8b-7179-4b7d-b71e-5abc176a4d55",
   "metadata": {},
   "outputs": [
    {
     "data": {
      "text/plain": [
       "500"
      ]
     },
     "execution_count": 396,
     "metadata": {},
     "output_type": "execute_result"
    }
   ],
   "source": [
    "np.linalg.matrix_rank(A)"
   ]
  },
  {
   "cell_type": "code",
   "execution_count": 397,
   "id": "a2344191-ffc8-444d-905c-bd5020a1b249",
   "metadata": {},
   "outputs": [
    {
     "data": {
      "text/plain": [
       "5.999411316657302"
      ]
     },
     "execution_count": 397,
     "metadata": {},
     "output_type": "execute_result"
    }
   ],
   "source": [
    "res = linprog(c, A_ub=A, b_ub=b, bounds=bounds, method='highs')\n",
    "res.x.max()"
   ]
  },
  {
   "cell_type": "code",
   "execution_count": 398,
   "id": "17eb8b36-a851-4f56-986d-3afba9eb8bb6",
   "metadata": {},
   "outputs": [],
   "source": [
    "def active_idx(A, x, b, eps=1.e-8):\n",
    "    vio = A @ res.x - b\n",
    "    assert vio.max() <= eps\n",
    "    vio_mask = np.abs(vio) < eps\n",
    "    return np.where(vio_mask)[0]"
   ]
  },
  {
   "cell_type": "markdown",
   "id": "2dbb7fa8-275c-4136-8c7c-73a838075bac",
   "metadata": {},
   "source": [
    "# A @ c + b smaller, more likely to be active"
   ]
  },
  {
   "cell_type": "code",
   "execution_count": 399,
   "id": "22ed0966-0211-4970-9959-246801603156",
   "metadata": {},
   "outputs": [],
   "source": [
    "actives = active_idx(A, res.x, b)"
   ]
  },
  {
   "cell_type": "code",
   "execution_count": null,
   "id": "7b7b63bf-59f9-49c3-8110-8c63aaa5763a",
   "metadata": {},
   "outputs": [],
   "source": []
  },
  {
   "cell_type": "code",
   "execution_count": 419,
   "id": "d9463087-39a8-4aa5-ac31-c603eeb4bf3d",
   "metadata": {},
   "outputs": [],
   "source": [
    "heur = A @ c / np.linalg.norm(A, ord=None, axis=1) / np.linalg.norm(c) + b\n",
    "# heur"
   ]
  },
  {
   "cell_type": "code",
   "execution_count": null,
   "id": "69b34526-c881-4b33-9b03-508c1a325179",
   "metadata": {},
   "outputs": [],
   "source": []
  },
  {
   "cell_type": "code",
   "execution_count": 436,
   "id": "f1a2d543-03f0-4497-a585-07fd76b13fa1",
   "metadata": {},
   "outputs": [],
   "source": [
    "topk = 40"
   ]
  },
  {
   "cell_type": "code",
   "execution_count": 437,
   "id": "fd0618dd-0da4-4237-a89e-8277b0a8bf4a",
   "metadata": {},
   "outputs": [],
   "source": [
    "sortd_Ac_add_b = np.argsort(heur)"
   ]
  },
  {
   "cell_type": "code",
   "execution_count": 438,
   "id": "c53f3fef-4610-480f-af89-3a87c39bf4f3",
   "metadata": {},
   "outputs": [],
   "source": [
    "preds = np.isin(sortd_Ac_add_b[:topk], actives)"
   ]
  },
  {
   "cell_type": "code",
   "execution_count": 439,
   "id": "12aac0fd-68a5-42cb-a403-a04ccc112e2a",
   "metadata": {},
   "outputs": [
    {
     "data": {
      "text/plain": [
       "0.825"
      ]
     },
     "execution_count": 439,
     "metadata": {},
     "output_type": "execute_result"
    }
   ],
   "source": [
    "preds.sum() / preds.shape[0]"
   ]
  },
  {
   "cell_type": "code",
   "execution_count": 441,
   "id": "84d3351e-25fc-4b51-8994-74c265d39bc8",
   "metadata": {},
   "outputs": [],
   "source": [
    "preds = np.isin(sortd_Ac_add_b[-topk:], actives)"
   ]
  },
  {
   "cell_type": "code",
   "execution_count": 442,
   "id": "86343243-ba99-4462-909e-bb53e592a8bf",
   "metadata": {},
   "outputs": [
    {
     "data": {
      "text/plain": [
       "0.025"
      ]
     },
     "execution_count": 442,
     "metadata": {},
     "output_type": "execute_result"
    }
   ],
   "source": [
    "preds.sum() / preds.shape[0]"
   ]
  },
  {
   "cell_type": "code",
   "execution_count": null,
   "id": "815954b7-bed5-492b-b47a-923f8b9a937f",
   "metadata": {},
   "outputs": [],
   "source": []
  },
  {
   "cell_type": "code",
   "execution_count": null,
   "id": "3d208b0b-96d4-4f85-87d5-4ed72e19ac0b",
   "metadata": {},
   "outputs": [],
   "source": []
  },
  {
   "cell_type": "markdown",
   "id": "2e129e87-d6d0-417f-a05e-9c8dd22a5fc6",
   "metadata": {},
   "source": [
    "# todo: sensitive analys, for example, add some bias to cons 6, does it change x solution? (6 is not active, but also may affect)"
   ]
  },
  {
   "cell_type": "code",
   "execution_count": null,
   "id": "73dda2ae-cc69-4320-b728-443806988a99",
   "metadata": {},
   "outputs": [],
   "source": []
  },
  {
   "cell_type": "markdown",
   "id": "3d729c32-7c1b-4ec3-a823-58a9a0b5a8a3",
   "metadata": {},
   "source": [
    "feasible point"
   ]
  },
  {
   "cell_type": "markdown",
   "id": "b01084e8-9986-4374-9e82-9001eaad7949",
   "metadata": {},
   "source": [
    "# TODO:\n",
    "\n",
    "split this into l2, l1, log"
   ]
  },
  {
   "cell_type": "code",
   "execution_count": 589,
   "id": "1aa4e4c5-d97f-48d6-b2f0-61f8ed003bb6",
   "metadata": {},
   "outputs": [],
   "source": [
    "def find_feas(A, b, c, x0, maxiter = 1000):\n",
    "    m = np.zeros_like(x0)\n",
    "    v = np.zeros_like(x0)\n",
    "    beta1 = 0.9\n",
    "    beta2 = 0.999\n",
    "    learning_rate = 0.1\n",
    "    eps = 1.e-8\n",
    "\n",
    "    pbar = tqdm(range(maxiter))\n",
    "    for i in pbar:\n",
    "        residual = A @ x0 - b\n",
    "        bias = residual.max()\n",
    "    \n",
    "        pbar.set_postfix({'res': residual.max(), 'x': x0.min()})\n",
    "        if residual.max() <= -1. and x0.min() >= 0.:\n",
    "            break\n",
    "        \n",
    "        # grad = A.T @ np.where(residual > 0, residual, 0.) - np.where(x0 < 0, x0, 0.)\n",
    "        # grad = A.T @ np.where(residual > 0, 1, 0.) - np.where(x0 < 0, -1, 0.)\n",
    "        grad = A.T @ (1. / (-residual + bias + 0.1)) - np.where(x0 < 0, x0, 0.)\n",
    "        m = (1 - beta1) * grad + beta1 * m  # first  moment estimate.\n",
    "        v = (1 - beta2) * (grad ** 2) + beta2 * v  # second moment estimate.\n",
    "        mhat = m / (1 - beta1**(i + 1))  # bias correction.\n",
    "        vhat = v / (1 - beta2**(i + 1))\n",
    "        x0 = x0 - learning_rate * mhat / (np.sqrt(vhat) + eps)\n",
    "        x0[x0 < 0] = 0.\n",
    "    return x0"
   ]
  },
  {
   "cell_type": "code",
   "execution_count": 590,
   "id": "85e5ca2a-70bb-4604-9070-cb05d2486f48",
   "metadata": {},
   "outputs": [
    {
     "name": "stderr",
     "output_type": "stream",
     "text": [
      " 11%|████████████▉                                                                                                       | 112/1000 [00:00<00:00, 3282.23it/s, res=-1, x=0]\n"
     ]
    }
   ],
   "source": [
    "x = find_feas(A, b, c, np.abs(np.random.randn(c.shape[0])), 1000)"
   ]
  },
  {
   "cell_type": "code",
   "execution_count": 591,
   "id": "788d9fb0-d080-4023-b1d7-56f4db0dd704",
   "metadata": {},
   "outputs": [
    {
     "data": {
      "text/plain": [
       "5"
      ]
     },
     "execution_count": 591,
     "metadata": {},
     "output_type": "execute_result"
    }
   ],
   "source": [
    "np.argmax(A @ (x - a * c) - b)"
   ]
  },
  {
   "cell_type": "code",
   "execution_count": 592,
   "id": "31491194-b18b-4431-9396-1f619919b9af",
   "metadata": {},
   "outputs": [
    {
     "data": {
      "text/plain": [
       "17"
      ]
     },
     "execution_count": 592,
     "metadata": {},
     "output_type": "execute_result"
    }
   ],
   "source": [
    "np.argmax(A @ x - b)"
   ]
  },
  {
   "cell_type": "code",
   "execution_count": 593,
   "id": "59cd730a-0c8d-4153-a3f4-d628b7e6bce7",
   "metadata": {},
   "outputs": [
    {
     "data": {
      "text/plain": [
       "array([-0.37737332, -0.19583354,  0.85986171, -0.05396768,  0.16993338,\n",
       "       -0.0949588 ,  0.03225293, -0.16146436, -0.30145799,  0.17564246,\n",
       "        0.40066374, -0.4507214 , -0.37685126, -0.62093072,  0.01972115,\n",
       "        0.04681709,  0.26146008,  0.13500878, -0.54775307,  0.31745736,\n",
       "        0.42852261,  0.27094759, -0.47243575,  0.45955483,  0.06264799,\n",
       "       -0.31110869, -0.35851797, -0.10525155, -0.01172774,  0.58577606,\n",
       "        0.10031077,  0.16228011,  0.16750263,  0.55988206,  0.31921448,\n",
       "       -0.34645189, -0.13155617, -0.42808457,  0.14942064, -0.22317568,\n",
       "       -0.27262227,  0.43943676, -0.13666641, -0.06876339,  0.10479078,\n",
       "        0.73070852, -0.40656963, -0.12569153, -0.45336717,  0.0697006 ,\n",
       "       -0.06502266,  0.25712077,  0.14260872, -0.03153683,  0.44277588,\n",
       "        0.08419943,  0.02131421, -0.06291146, -0.01877061, -0.17719485,\n",
       "       -0.46383726, -0.04330475, -0.66471547, -0.00911601, -0.12548365,\n",
       "       -0.03166618, -0.45075587,  0.13620088,  0.06779389, -0.40402481,\n",
       "        0.22054095,  0.00706796,  0.09561167,  0.14094133, -0.10401555,\n",
       "       -0.35324121,  0.45165821, -0.42359362, -0.13772994, -0.4362511 ,\n",
       "       -0.31478499,  0.5351944 ,  0.28662884, -0.40022866,  0.18250891,\n",
       "       -0.41919684,  0.11280534, -0.08180293,  0.42868495,  0.60833578,\n",
       "        0.60795202, -0.25337338,  0.23269818, -0.33257458, -0.20572125,\n",
       "        0.3867899 ,  0.55109722,  0.03509512,  1.        ,  0.31700311])"
      ]
     },
     "execution_count": 593,
     "metadata": {},
     "output_type": "execute_result"
    }
   ],
   "source": [
    "A[46]"
   ]
  },
  {
   "cell_type": "code",
   "execution_count": null,
   "id": "a75f1a1f-d14d-4273-8f81-2959e9eb42e4",
   "metadata": {},
   "outputs": [],
   "source": [
    "np.abs()"
   ]
  },
  {
   "cell_type": "code",
   "execution_count": 552,
   "id": "e75d758c-e836-479f-a883-51db5d604706",
   "metadata": {},
   "outputs": [],
   "source": [
    "def find_close_cons(x, A, b, c):\n",
    "    neg_mask = (-c < 0)\n",
    "    steps1 = x[neg_mask] / c[neg_mask]\n",
    "    if len(steps1):\n",
    "        alpha1 = steps1.min()\n",
    "    else:\n",
    "        alpha1 = 1.e8\n",
    "    \n",
    "    neg_mask = (A @ c < 0)\n",
    "    steps2 = (A @ x - b)[neg_mask] / (A @ c - 1.e-10)[neg_mask]\n",
    "    if len(steps2):\n",
    "        alpha2 = steps2.min()\n",
    "    else:\n",
    "        alpha2 = 1.e8\n",
    "\n",
    "    a = min(alpha1, alpha2)\n",
    "    assert (A @ (x - a * c) - b).max() <= 0.\n",
    "    return a"
   ]
  },
  {
   "cell_type": "code",
   "execution_count": 557,
   "id": "9211966c-bfdd-43e0-aca5-3b38539a2f98",
   "metadata": {},
   "outputs": [],
   "source": [
    "a = find_close_cons(x, A, b, c)"
   ]
  },
  {
   "cell_type": "code",
   "execution_count": 558,
   "id": "c0769d04-c097-4954-a650-062e554ae077",
   "metadata": {},
   "outputs": [
    {
     "data": {
      "text/plain": [
       "46"
      ]
     },
     "execution_count": 558,
     "metadata": {},
     "output_type": "execute_result"
    }
   ],
   "source": [
    "np.argmax(A @ (x - a * c) - b)"
   ]
  },
  {
   "cell_type": "code",
   "execution_count": 559,
   "id": "76d66673-ff3e-45c4-97a3-95f05e572c3f",
   "metadata": {},
   "outputs": [
    {
     "data": {
      "text/plain": [
       "46"
      ]
     },
     "execution_count": 559,
     "metadata": {},
     "output_type": "execute_result"
    }
   ],
   "source": [
    "np.argmax(A @ x - b)"
   ]
  },
  {
   "cell_type": "code",
   "execution_count": null,
   "id": "d98cb2fb-ea6f-44c1-b5aa-03b92d521c38",
   "metadata": {},
   "outputs": [],
   "source": []
  },
  {
   "cell_type": "code",
   "execution_count": 560,
   "id": "8aeccba9-6ad5-4de8-bd4e-db1234cd2d5e",
   "metadata": {},
   "outputs": [],
   "source": [
    "a = find_close_cons(x, A, b, np.eye(x.shape[0])[4])"
   ]
  },
  {
   "cell_type": "code",
   "execution_count": 561,
   "id": "f29309e4-86e9-46fa-8ee7-3d94935ea2b1",
   "metadata": {},
   "outputs": [
    {
     "data": {
      "text/plain": [
       "7"
      ]
     },
     "execution_count": 561,
     "metadata": {},
     "output_type": "execute_result"
    }
   ],
   "source": [
    "np.argmax(A @ (x - a * c) - b)"
   ]
  },
  {
   "cell_type": "code",
   "execution_count": 562,
   "id": "0fe258dd-839a-4ea3-9e67-b197b0bfb231",
   "metadata": {},
   "outputs": [
    {
     "data": {
      "text/plain": [
       "46"
      ]
     },
     "execution_count": 562,
     "metadata": {},
     "output_type": "execute_result"
    }
   ],
   "source": [
    "np.argmax(A @ x - b)"
   ]
  },
  {
   "cell_type": "code",
   "execution_count": null,
   "id": "ae42dbed-215a-4357-89dc-e4f609ca6c18",
   "metadata": {},
   "outputs": [],
   "source": []
  },
  {
   "cell_type": "markdown",
   "id": "32dd4b89-3794-4196-b86f-7b6447d79778",
   "metadata": {},
   "source": [
    "observed problem: if a point is too close to a cons, then its closest cons is pretty much the same as its steepest cons!  \n",
    "\n",
    "solution 1: find an orthogonal direction (heuristic: find Ai @ eye, argmin(abs))  \n",
    "solution 2: push it further into the center of the feasible region, use sum log loss func for grad descent"
   ]
  },
  {
   "cell_type": "code",
   "execution_count": null,
   "id": "910037b9-3df5-46e9-8a07-a2a7487329e3",
   "metadata": {},
   "outputs": [],
   "source": []
  }
 ],
 "metadata": {
  "kernelspec": {
   "display_name": "Python 3 (ipykernel)",
   "language": "python",
   "name": "python3"
  },
  "language_info": {
   "codemirror_mode": {
    "name": "ipython",
    "version": 3
   },
   "file_extension": ".py",
   "mimetype": "text/x-python",
   "name": "python",
   "nbconvert_exporter": "python",
   "pygments_lexer": "ipython3",
   "version": "3.10.14"
  }
 },
 "nbformat": 4,
 "nbformat_minor": 5
}
